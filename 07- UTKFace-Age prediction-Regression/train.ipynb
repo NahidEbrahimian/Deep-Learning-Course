{
  "nbformat": 4,
  "nbformat_minor": 0,
  "metadata": {
    "colab": {
      "name": "UTKFace-Regression.ipynb",
      "provenance": [],
      "collapsed_sections": []
    },
    "kernelspec": {
      "name": "python3",
      "display_name": "Python 3"
    },
    "language_info": {
      "name": "python"
    },
    "accelerator": "GPU"
  },
  "cells": [
    {
      "cell_type": "code",
      "metadata": {
        "id": "n3ZKw229xHRW"
      },
      "source": [
        "!pip install -q kaggle\n",
        "!mkdir ~/.kaggle\n",
        "! cp kaggle.json ~/.kaggle/"
      ],
      "execution_count": 1,
      "outputs": []
    },
    {
      "cell_type": "code",
      "metadata": {
        "colab": {
          "base_uri": "https://localhost:8080/"
        },
        "id": "kGQtUqIQyPLH",
        "outputId": "b575cd4c-494c-40a6-9daf-9e32d96e8787"
      },
      "source": [
        "!kaggle datasets download -d jangedoo/utkface-new\n"
      ],
      "execution_count": 2,
      "outputs": [
        {
          "output_type": "stream",
          "name": "stdout",
          "text": [
            "Warning: Your Kaggle API key is readable by other users on this system! To fix this, you can run 'chmod 600 /root/.kaggle/kaggle.json'\n",
            "Downloading utkface-new.zip to /content\n",
            " 98% 325M/331M [00:08<00:00, 27.9MB/s]\n",
            "100% 331M/331M [00:08<00:00, 41.3MB/s]\n"
          ]
        }
      ]
    },
    {
      "cell_type": "code",
      "metadata": {
        "id": "lknPUGHGyRXH"
      },
      "source": [
        "!unzip -qq utkface-new.zip"
      ],
      "execution_count": 3,
      "outputs": []
    },
    {
      "cell_type": "code",
      "metadata": {
        "id": "FKPnrOCnzX3m"
      },
      "source": [
        "import os\n",
        "import pandas as pd\n",
        "import numpy as np\n",
        "import matplotlib.pyplot as plt\n",
        "from sklearn.model_selection import train_test_split\n",
        "import tensorflow as tf\n",
        "from tensorflow.keras.layers import Conv2D, BatchNormalization, Flatten, Dense, MaxPool2D, Dropout\n",
        "from tensorflow.keras.preprocessing.image import ImageDataGenerator\n",
        "import cv2\n",
        "from config import *"
      ],
      "execution_count": 2,
      "outputs": []
    },
    {
      "cell_type": "code",
      "metadata": {
        "id": "0Z1q5S_az0vo",
        "colab": {
          "base_uri": "https://localhost:8080/"
        },
        "outputId": "4cd62517-a3d9-4f21-b738-2f762577d260"
      },
      "source": [
        "%%writefile config.py \n",
        "\n",
        "epochs = 10\n",
        "width = height = 224"
      ],
      "execution_count": 3,
      "outputs": [
        {
          "output_type": "stream",
          "name": "stdout",
          "text": [
            "Overwriting config.py\n"
          ]
        }
      ]
    },
    {
      "cell_type": "code",
      "metadata": {
        "id": "M18Ud-v-0W2Z"
      },
      "source": [
        "images = [] # X\n",
        "ages = [] # Y\n",
        "\n",
        "for image_name in os.listdir('crop_part1')[0: 9000]:\n",
        "    parts = image_name.split('_')\n",
        "    ages.append(int(parts[0]))\n",
        "\n",
        "    image = cv2.imread(f'crop_part1/{image_name}')\n",
        "    image = cv2.cvtColor(image, cv2.COLOR_BGR2RGB)\n",
        "    images.append(image)\n"
      ],
      "execution_count": 4,
      "outputs": []
    },
    {
      "cell_type": "code",
      "metadata": {
        "colab": {
          "base_uri": "https://localhost:8080/",
          "height": 206
        },
        "id": "j_xZsjU13cjn",
        "outputId": "c1549868-9542-48d1-b63b-6e9f5bc9486b"
      },
      "source": [
        "images = pd.Series(images, name='Images')\n",
        "ages = pd.Series(ages, name='Ages')\n",
        "\n",
        "df = pd.concat([images, ages], axis=1)\n",
        "df.head()"
      ],
      "execution_count": 5,
      "outputs": [
        {
          "output_type": "execute_result",
          "data": {
            "text/html": [
              "<div>\n",
              "<style scoped>\n",
              "    .dataframe tbody tr th:only-of-type {\n",
              "        vertical-align: middle;\n",
              "    }\n",
              "\n",
              "    .dataframe tbody tr th {\n",
              "        vertical-align: top;\n",
              "    }\n",
              "\n",
              "    .dataframe thead th {\n",
              "        text-align: right;\n",
              "    }\n",
              "</style>\n",
              "<table border=\"1\" class=\"dataframe\">\n",
              "  <thead>\n",
              "    <tr style=\"text-align: right;\">\n",
              "      <th></th>\n",
              "      <th>Images</th>\n",
              "      <th>Ages</th>\n",
              "    </tr>\n",
              "  </thead>\n",
              "  <tbody>\n",
              "    <tr>\n",
              "      <th>0</th>\n",
              "      <td>[[[255, 251, 248], [255, 251, 248], [253, 252,...</td>\n",
              "      <td>1</td>\n",
              "    </tr>\n",
              "    <tr>\n",
              "      <th>1</th>\n",
              "      <td>[[[198, 184, 173], [196, 182, 171], [194, 180,...</td>\n",
              "      <td>65</td>\n",
              "    </tr>\n",
              "    <tr>\n",
              "      <th>2</th>\n",
              "      <td>[[[225, 208, 198], [228, 211, 201], [231, 214,...</td>\n",
              "      <td>2</td>\n",
              "    </tr>\n",
              "    <tr>\n",
              "      <th>3</th>\n",
              "      <td>[[[45, 26, 28], [45, 26, 28], [44, 25, 27], [4...</td>\n",
              "      <td>3</td>\n",
              "    </tr>\n",
              "    <tr>\n",
              "      <th>4</th>\n",
              "      <td>[[[25, 16, 7], [23, 14, 5], [21, 12, 3], [21, ...</td>\n",
              "      <td>46</td>\n",
              "    </tr>\n",
              "  </tbody>\n",
              "</table>\n",
              "</div>"
            ],
            "text/plain": [
              "                                              Images  Ages\n",
              "0  [[[255, 251, 248], [255, 251, 248], [253, 252,...     1\n",
              "1  [[[198, 184, 173], [196, 182, 171], [194, 180,...    65\n",
              "2  [[[225, 208, 198], [228, 211, 201], [231, 214,...     2\n",
              "3  [[[45, 26, 28], [45, 26, 28], [44, 25, 27], [4...     3\n",
              "4  [[[25, 16, 7], [23, 14, 5], [21, 12, 3], [21, ...    46"
            ]
          },
          "metadata": {},
          "execution_count": 5
        }
      ]
    },
    {
      "cell_type": "code",
      "metadata": {
        "colab": {
          "base_uri": "https://localhost:8080/",
          "height": 304
        },
        "id": "-_MVHtXQ5HG-",
        "outputId": "3e3c9151-9bb8-4dc8-9120-3a16dc9061d8"
      },
      "source": [
        "print(df['Ages'][0])\n",
        "plt.imshow(df['Images'][0])"
      ],
      "execution_count": 6,
      "outputs": [
        {
          "output_type": "stream",
          "name": "stdout",
          "text": [
            "1\n"
          ]
        },
        {
          "output_type": "execute_result",
          "data": {
            "text/plain": [
              "<matplotlib.image.AxesImage at 0x7fbb303ad850>"
            ]
          },
          "metadata": {},
          "execution_count": 6
        },
        {
          "output_type": "display_data",
          "data": {
            "image/png": "[encoded data removed]",
            "text/plain": [
              "<Figure size 432x288 with 1 Axes>"
            ]
          },
          "metadata": {
            "needs_background": "light"
          }
        }
      ]
    },
    {
      "cell_type": "code",
      "metadata": {
        "colab": {
          "base_uri": "https://localhost:8080/",
          "height": 338
        },
        "id": "AWmHD7TK5ycU",
        "outputId": "7ae3750f-57e4-4687-9fbf-94860ab76cb2"
      },
      "source": [
        "plt.figure(figsize=(18, 6))\n",
        "plt.hist(df['Ages'], bins=116, color='green')\n",
        "plt.show()"
      ],
      "execution_count": 7,
      "outputs": [
        {
          "output_type": "display_data",
          "data": {
            "image/png": "[encoded data removed]",
            "text/plain": [
              "<Figure size 1296x432 with 1 Axes>"
            ]
          },
          "metadata": {
            "needs_background": "light"
          }
        }
      ]
    },
    {
      "cell_type": "code",
      "metadata": {
        "id": "aAxsQN_B6zeB"
      },
      "source": [
        "under_4 = []\n",
        "\n",
        "for i in range(len(df)):\n",
        "  if df['Ages'].iloc[i] <= 4:\n",
        "    under_4.append(df.iloc[i])\n",
        "\n",
        "under_4 = pd.DataFrame(under_4)\n",
        "under_4 = under_4.sample(frac=0.3)\n",
        "\n",
        "up_4 = df[df['Ages'] > 4]\n",
        "\n",
        "df = pd.concat([under_4, up_4])"
      ],
      "execution_count": 8,
      "outputs": []
    },
    {
      "cell_type": "code",
      "metadata": {
        "colab": {
          "base_uri": "https://localhost:8080/",
          "height": 339
        },
        "id": "sMdeJF81-86q",
        "outputId": "a098b4a6-bc17-486c-ba21-37f974cb1ef6"
      },
      "source": [
        "plt.figure(figsize=(18, 6))\n",
        "plt.hist(df['Ages'], bins=116, color='green')\n",
        "plt.show()"
      ],
      "execution_count": 9,
      "outputs": [
        {
          "output_type": "display_data",
          "data": {
            "image/png": "[encoded data removed]",
            "text/plain": [
              "<Figure size 1296x432 with 1 Axes>"
            ]
          },
          "metadata": {
            "needs_background": "light"
          }
        }
      ]
    },
    {
      "cell_type": "code",
      "metadata": {
        "id": "NIwJlGjg_Lnn"
      },
      "source": [
        "df = df[df['Ages'] < 90]\n"
      ],
      "execution_count": 10,
      "outputs": []
    },
    {
      "cell_type": "code",
      "metadata": {
        "colab": {
          "base_uri": "https://localhost:8080/",
          "height": 339
        },
        "id": "DIp1ZUxh_t_F",
        "outputId": "c864b6d0-9fab-4a33-f6da-8d2cfa4192b3"
      },
      "source": [
        "plt.figure(figsize=(18, 6))\n",
        "plt.hist(df['Ages'], bins=89, color='green')\n",
        "plt.show()"
      ],
      "execution_count": 11,
      "outputs": [
        {
          "output_type": "display_data",
          "data": {
            "image/png": "[encoded data removed]",
            "text/plain": [
              "<Figure size 1296x432 with 1 Axes>"
            ]
          },
          "metadata": {
            "needs_background": "light"
          }
        }
      ]
    },
    {
      "cell_type": "code",
      "metadata": {
        "colab": {
          "base_uri": "https://localhost:8080/"
        },
        "id": "UCsNgE9n_uyO",
        "outputId": "2efbdc23-903f-42ed-93b9-0ea3f5cad2ae"
      },
      "source": [
        "X = []\n",
        "Y =[]\n",
        "\n",
        "for i in range(len(df)):\n",
        "  df['Images'].iloc[i] = cv2.resize(df['Images'].iloc[i], (width, height))\n",
        "\n",
        "  X.append(df['Images'].iloc[i])\n",
        "  Y.append(df['Ages'].iloc[i])\n",
        "\n",
        "X= np.array(X)\n",
        "Y = np.array(Y)"
      ],
      "execution_count": 12,
      "outputs": [
        {
          "output_type": "stream",
          "name": "stderr",
          "text": [
            "/usr/local/lib/python3.7/dist-packages/pandas/core/indexing.py:670: SettingWithCopyWarning: \n",
            "A value is trying to be set on a copy of a slice from a DataFrame\n",
            "\n",
            "See the caveats in the documentation: https://pandas.pydata.org/pandas-docs/stable/user_guide/indexing.html#returning-a-view-versus-a-copy\n",
            "  iloc._setitem_with_indexer(indexer, value)\n"
          ]
        }
      ]
    },
    {
      "cell_type": "code",
      "metadata": {
        "colab": {
          "base_uri": "https://localhost:8080/"
        },
        "id": "wuE3HfyGBlyE",
        "outputId": "72c77321-0105-4383-91b3-e84ef73ffc05"
      },
      "source": [
        "X.shape"
      ],
      "execution_count": 13,
      "outputs": [
        {
          "output_type": "execute_result",
          "data": {
            "text/plain": [
              "(7536, 224, 224, 3)"
            ]
          },
          "metadata": {},
          "execution_count": 13
        }
      ]
    },
    {
      "cell_type": "code",
      "metadata": {
        "id": "BtcYwF4UBxXM"
      },
      "source": [
        "x_train, x_val, y_train, y_val = train_test_split(X, Y, test_size=0.2)"
      ],
      "execution_count": 14,
      "outputs": []
    },
    {
      "cell_type": "code",
      "metadata": {
        "colab": {
          "base_uri": "https://localhost:8080/"
        },
        "id": "Vj001AYACJ6F",
        "outputId": "6a503923-72ad-41e2-c430-fb7dc377eb70"
      },
      "source": [
        "x_train.shape"
      ],
      "execution_count": 15,
      "outputs": [
        {
          "output_type": "execute_result",
          "data": {
            "text/plain": [
              "(6028, 224, 224, 3)"
            ]
          },
          "metadata": {},
          "execution_count": 15
        }
      ]
    },
    {
      "cell_type": "code",
      "metadata": {
        "id": "olfDUxAQCMu3"
      },
      "source": [
        "data_generator = ImageDataGenerator(rescale=1/.255,\n",
        "                                    horizontal_flip=True)\n",
        "\n",
        "train_data = data_generator.flow(x_train,\n",
        "                                 y_train,\n",
        "                                 batch_size=32)\n",
        "\n",
        "val_data = data_generator.flow(x_val,\n",
        "                                 y_val,\n",
        "                                 batch_size=32)\n",
        "\n",
        "\n"
      ],
      "execution_count": 16,
      "outputs": []
    },
    {
      "cell_type": "code",
      "metadata": {
        "id": "OqKJ6gSyEoSf"
      },
      "source": [
        "base_moel = tf.keras.applications.MobileNetV2(\n",
        "    input_shape=(width, height, 3),\n",
        "    weights=\"imagenet\",\n",
        "    include_top=False,\n",
        "    pooling='max'\n",
        "\n",
        ")"
      ],
      "execution_count": 27,
      "outputs": []
    },
    {
      "cell_type": "code",
      "metadata": {
        "id": "QroUNyulF7bv"
      },
      "source": [
        "for layer in base_moel.layers[:-4]:\n",
        "  layer.trainable = False"
      ],
      "execution_count": 28,
      "outputs": []
    },
    {
      "cell_type": "code",
      "metadata": {
        "id": "LjSOjcvtFl3d"
      },
      "source": [
        "model = tf.keras.Sequential([\n",
        "                             base_moel,\n",
        "                             Dense(1, activation='linear')\n",
        "])"
      ],
      "execution_count": 29,
      "outputs": []
    },
    {
      "cell_type": "code",
      "metadata": {
        "id": "WF37PzlJGR19"
      },
      "source": [
        "model.compile(loss='mean_squared_error',\n",
        "              optimizer=tf.keras.optimizers.Adam(learning_rate=0.001))"
      ],
      "execution_count": 30,
      "outputs": []
    },
    {
      "cell_type": "code",
      "metadata": {
        "colab": {
          "base_uri": "https://localhost:8080/"
        },
        "id": "yXGHstuaGdL5",
        "outputId": "189ab51b-5cc5-4e52-826d-5aff67f36ead"
      },
      "source": [
        "model.fit(train_data,\n",
        "          validation_data=val_data,\n",
        "          # epochs=epochs,\n",
        "          epochs=epochs,\n",
        "          shuffle=True)"
      ],
      "execution_count": 31,
      "outputs": [
        {
          "output_type": "stream",
          "name": "stdout",
          "text": [
            "Epoch 1/10\n",
            "189/189 [==============================] - 25s 114ms/step - loss: 292.6793 - val_loss: 1058.7695\n",
            "Epoch 2/10\n",
            "189/189 [==============================] - 20s 108ms/step - loss: 213.4180 - val_loss: 1076.8850\n",
            "Epoch 3/10\n",
            "189/189 [==============================] - 20s 108ms/step - loss: 186.9483 - val_loss: 380.8790\n",
            "Epoch 4/10\n",
            "189/189 [==============================] - 20s 108ms/step - loss: 169.2562 - val_loss: 286.9685\n",
            "Epoch 5/10\n",
            "189/189 [==============================] - 20s 108ms/step - loss: 156.0138 - val_loss: 310.5450\n",
            "Epoch 6/10\n",
            "189/189 [==============================] - 20s 108ms/step - loss: 144.0965 - val_loss: 233.1867\n",
            "Epoch 7/10\n",
            "189/189 [==============================] - 20s 108ms/step - loss: 134.3723 - val_loss: 239.3290\n",
            "Epoch 8/10\n",
            "189/189 [==============================] - 20s 108ms/step - loss: 117.0349 - val_loss: 219.5290\n",
            "Epoch 9/10\n",
            "189/189 [==============================] - 20s 108ms/step - loss: 107.9280 - val_loss: 227.1812\n",
            "Epoch 10/10\n",
            "189/189 [==============================] - 20s 108ms/step - loss: 103.9693 - val_loss: 288.6991\n"
          ]
        },
        {
          "output_type": "execute_result",
          "data": {
            "text/plain": [
              "<keras.callbacks.History at 0x7fbab28c7410>"
            ]
          },
          "metadata": {},
          "execution_count": 31
        }
      ]
    },
    {
      "cell_type": "code",
      "metadata": {
        "colab": {
          "base_uri": "https://localhost:8080/"
        },
        "id": "W2yaMgIpa8j5",
        "outputId": "b522ee13-5c3b-497e-a8f4-a084923f6cbd"
      },
      "source": [
        "model.save('model.h5')"
      ],
      "execution_count": 32,
      "outputs": [
        {
          "output_type": "stream",
          "name": "stderr",
          "text": [
            "/usr/local/lib/python3.7/dist-packages/keras/utils/generic_utils.py:497: CustomMaskWarning: Custom mask layers require a config and must override get_config. When loading, the custom mask layer must be passed to the custom_objects argument.\n",
            "  category=CustomMaskWarning)\n"
          ]
        }
      ]
    },
    {
      "cell_type": "code",
      "metadata": {
        "colab": {
          "base_uri": "https://localhost:8080/"
        },
        "id": "0oQwFZ64Z5AN",
        "outputId": "cf5846a9-515a-4c36-bd5d-4bc103b0f734"
      },
      "source": [
        "!python3 inference.py --image_path 'input/08.jpg'"
      ],
      "execution_count": 35,
      "outputs": [
        {
          "output_type": "stream",
          "name": "stdout",
          "text": [
            "Age predicted:  [48.592476]\n"
          ]
        }
      ]
    },
    {
      "cell_type": "code",
      "metadata": {
        "id": "3YmjTnrkJcro"
      },
      "source": [
        "!pip install retina-face\n"
      ],
      "execution_count": null,
      "outputs": []
    },
    {
      "cell_type": "code",
      "metadata": {
        "id": "usTXMgZ4KMVy"
      },
      "source": [
        ""
      ],
      "execution_count": null,
      "outputs": []
    }
  ]
}