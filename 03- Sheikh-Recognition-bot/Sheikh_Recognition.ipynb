{
  "nbformat": 4,
  "nbformat_minor": 0,
  "metadata": {
    "accelerator": "GPU",
    "colab": {
      "name": "Sheykh-Recognition.ipynb",
      "provenance": [],
      "collapsed_sections": []
    },
    "kernelspec": {
      "display_name": "Python 3",
      "name": "python3"
    },
    "language_info": {
      "name": "python"
    }
  },
  "cells": [
    {
      "cell_type": "code",
      "metadata": {
        "id": "qbNhF--H4Ilm"
      },
      "source": [
        "import numpy as np\n",
        "from matplotlib import pyplot as plt\n",
        "import tensorflow as tf\n",
        "from tensorflow.keras.layers import Dense, Conv2D, MaxPool2D, Flatten\n",
        "from tensorflow.keras.optimizers import SGD, Adam\n",
        "from tensorflow.keras.preprocessing.image import ImageDataGenerator"
      ],
      "execution_count": 160,
      "outputs": []
    },
    {
      "cell_type": "code",
      "metadata": {
        "colab": {
          "base_uri": "https://localhost:8080/"
        },
        "id": "TfqI74LNsTDl",
        "outputId": "2d185d4f-db47-4488-c452-f8f886129b34"
      },
      "source": [
        "cd /content/drive/MyDrive/DeepLearning/DeepLearning01"
      ],
      "execution_count": 161,
      "outputs": [
        {
          "output_type": "stream",
          "name": "stdout",
          "text": [
            "/content/drive/MyDrive/DeepLearning/DeepLearning01\n"
          ]
        }
      ]
    },
    {
      "cell_type": "code",
      "metadata": {
        "id": "cKryRh0hw1Kd"
      },
      "source": [
        "dir = \"/content/drive/MyDrive/DeepLearning/DeepLearning01/Sheykh-Recognition\"\n",
        "\n",
        "width = 224\n",
        "height = 224"
      ],
      "execution_count": 162,
      "outputs": []
    },
    {
      "cell_type": "code",
      "metadata": {
        "colab": {
          "base_uri": "https://localhost:8080/"
        },
        "id": "Wi6pWcWpxCAI",
        "outputId": "7fff4fc7-fedd-4f89-fe73-f7b0204b7a14"
      },
      "source": [
        "data_generator = ImageDataGenerator(\n",
        "    rescale = 1 / 255,\n",
        "    validation_split = 0.2,\n",
        ")\n",
        "\n",
        "train_data = data_generator.flow_from_directory(\n",
        "    dir,\n",
        "    target_size = (width, height),\n",
        "    batch_size = 8,\n",
        "    class_mode = 'categorical',\n",
        "    subset = 'training'\n",
        ")\n",
        "\n",
        "validation_data = data_generator.flow_from_directory(\n",
        "    dir,\n",
        "    target_size = (width, height),\n",
        "    batch_size = 4,\n",
        "    class_mode = 'categorical',\n",
        "    subset = 'validation'\n",
        ")\n"
      ],
      "execution_count": 163,
      "outputs": [
        {
          "output_type": "stream",
          "name": "stdout",
          "text": [
            "Found 125 images belonging to 2 classes.\n",
            "Found 30 images belonging to 2 classes.\n"
          ]
        }
      ]
    },
    {
      "cell_type": "code",
      "metadata": {
        "colab": {
          "base_uri": "https://localhost:8080/"
        },
        "id": "sDlYwh_-w6e8",
        "outputId": "2188cc2d-7374-4002-b631-81538c727c04"
      },
      "source": [
        "input_shape = (224, 224, 3)\n",
        "\n",
        "model = tf.keras.models.Sequential([\n",
        "         Conv2D(16, (3, 3), input_shape=input_shape, activation='relu'),\n",
        "         Conv2D(16, (3, 3), activation='relu'),\n",
        "         MaxPool2D((2, 2)),\n",
        "         Conv2D(32, (3, 3), activation='relu'),\n",
        "         Conv2D(32, (3, 3), activation='relu'),\n",
        "         MaxPool2D((2, 2)),\n",
        "         Conv2D(32, (3, 3), activation='relu'),\n",
        "         Conv2D(32, (3, 3), activation='relu'),\n",
        "         MaxPool2D((2, 2)),\n",
        "         Conv2D(64, (3, 3), activation='relu'),\n",
        "         Conv2D(64, (3, 3), activation='relu'),\n",
        "         MaxPool2D((2, 2)),\n",
        "         Flatten(),\n",
        "         Dense(128, activation='relu'),\n",
        "         Dense(64, activation='relu'),\n",
        "         Dense(2, activation='softmax')                          \n",
        "])\n",
        "\n",
        "model.compile(optimizer=tf.keras.optimizers.SGD(),\n",
        "              loss=tf.keras.losses.binary_crossentropy,\n",
        "              metrics='accuracy')\n",
        "\n",
        "model.summary()"
      ],
      "execution_count": 168,
      "outputs": [
        {
          "output_type": "stream",
          "name": "stdout",
          "text": [
            "Model: \"sequential_30\"\n",
            "_________________________________________________________________\n",
            "Layer (type)                 Output Shape              Param #   \n",
            "=================================================================\n",
            "conv2d_244 (Conv2D)          (None, 222, 222, 16)      448       \n",
            "_________________________________________________________________\n",
            "conv2d_245 (Conv2D)          (None, 220, 220, 16)      2320      \n",
            "_________________________________________________________________\n",
            "max_pooling2d_120 (MaxPoolin (None, 110, 110, 16)      0         \n",
            "_________________________________________________________________\n",
            "conv2d_246 (Conv2D)          (None, 108, 108, 32)      4640      \n",
            "_________________________________________________________________\n",
            "conv2d_247 (Conv2D)          (None, 106, 106, 32)      9248      \n",
            "_________________________________________________________________\n",
            "max_pooling2d_121 (MaxPoolin (None, 53, 53, 32)        0         \n",
            "_________________________________________________________________\n",
            "conv2d_248 (Conv2D)          (None, 51, 51, 32)        9248      \n",
            "_________________________________________________________________\n",
            "conv2d_249 (Conv2D)          (None, 49, 49, 32)        9248      \n",
            "_________________________________________________________________\n",
            "max_pooling2d_122 (MaxPoolin (None, 24, 24, 32)        0         \n",
            "_________________________________________________________________\n",
            "conv2d_250 (Conv2D)          (None, 22, 22, 64)        18496     \n",
            "_________________________________________________________________\n",
            "conv2d_251 (Conv2D)          (None, 20, 20, 64)        36928     \n",
            "_________________________________________________________________\n",
            "max_pooling2d_123 (MaxPoolin (None, 10, 10, 64)        0         \n",
            "_________________________________________________________________\n",
            "flatten_30 (Flatten)         (None, 6400)              0         \n",
            "_________________________________________________________________\n",
            "dense_90 (Dense)             (None, 128)               819328    \n",
            "_________________________________________________________________\n",
            "dense_91 (Dense)             (None, 64)                8256      \n",
            "_________________________________________________________________\n",
            "dense_92 (Dense)             (None, 2)                 130       \n",
            "=================================================================\n",
            "Total params: 918,290\n",
            "Trainable params: 918,290\n",
            "Non-trainable params: 0\n",
            "_________________________________________________________________\n"
          ]
        }
      ]
    },
    {
      "cell_type": "code",
      "metadata": {
        "colab": {
          "base_uri": "https://localhost:8080/"
        },
        "id": "jvBK7aHH8jRR",
        "outputId": "212c8174-1468-40e9-e370-5c8de1927c1f"
      },
      "source": [
        "history = model.fit(train_data, validation_data = validation_data, epochs=50)"
      ],
      "execution_count": 169,
      "outputs": [
        {
          "output_type": "stream",
          "name": "stdout",
          "text": [
            "Epoch 1/50\n",
            "16/16 [==============================] - 3s 153ms/step - loss: 0.6935 - accuracy: 0.4960 - val_loss: 0.6926 - val_accuracy: 0.5333\n",
            "Epoch 2/50\n",
            "16/16 [==============================] - 2s 143ms/step - loss: 0.6930 - accuracy: 0.5360 - val_loss: 0.6924 - val_accuracy: 0.6667\n",
            "Epoch 3/50\n",
            "16/16 [==============================] - 2s 145ms/step - loss: 0.6928 - accuracy: 0.5200 - val_loss: 0.6924 - val_accuracy: 0.6333\n",
            "Epoch 4/50\n",
            "16/16 [==============================] - 2s 143ms/step - loss: 0.6926 - accuracy: 0.5520 - val_loss: 0.6923 - val_accuracy: 0.7333\n",
            "Epoch 5/50\n",
            "16/16 [==============================] - 2s 145ms/step - loss: 0.6924 - accuracy: 0.5680 - val_loss: 0.6922 - val_accuracy: 0.6667\n",
            "Epoch 6/50\n",
            "16/16 [==============================] - 2s 137ms/step - loss: 0.6923 - accuracy: 0.5920 - val_loss: 0.6922 - val_accuracy: 0.5000\n",
            "Epoch 7/50\n",
            "16/16 [==============================] - 2s 140ms/step - loss: 0.6918 - accuracy: 0.5200 - val_loss: 0.6920 - val_accuracy: 0.7667\n",
            "Epoch 8/50\n",
            "16/16 [==============================] - 2s 143ms/step - loss: 0.6917 - accuracy: 0.5920 - val_loss: 0.6919 - val_accuracy: 0.6667\n",
            "Epoch 9/50\n",
            "16/16 [==============================] - 2s 144ms/step - loss: 0.6919 - accuracy: 0.5200 - val_loss: 0.6919 - val_accuracy: 0.4667\n",
            "Epoch 10/50\n",
            "16/16 [==============================] - 2s 136ms/step - loss: 0.6916 - accuracy: 0.6160 - val_loss: 0.6917 - val_accuracy: 0.5333\n",
            "Epoch 11/50\n",
            "16/16 [==============================] - 2s 140ms/step - loss: 0.6909 - accuracy: 0.5120 - val_loss: 0.6914 - val_accuracy: 0.6333\n",
            "Epoch 12/50\n",
            "16/16 [==============================] - 2s 140ms/step - loss: 0.6909 - accuracy: 0.6240 - val_loss: 0.6913 - val_accuracy: 0.6667\n",
            "Epoch 13/50\n",
            "16/16 [==============================] - 2s 140ms/step - loss: 0.6904 - accuracy: 0.5760 - val_loss: 0.6911 - val_accuracy: 0.7333\n",
            "Epoch 14/50\n",
            "16/16 [==============================] - 2s 141ms/step - loss: 0.6902 - accuracy: 0.6640 - val_loss: 0.6910 - val_accuracy: 0.5667\n",
            "Epoch 15/50\n",
            "16/16 [==============================] - 2s 143ms/step - loss: 0.6895 - accuracy: 0.5680 - val_loss: 0.6905 - val_accuracy: 0.6333\n",
            "Epoch 16/50\n",
            "16/16 [==============================] - 2s 143ms/step - loss: 0.6894 - accuracy: 0.5920 - val_loss: 0.6902 - val_accuracy: 0.7667\n",
            "Epoch 17/50\n",
            "16/16 [==============================] - 2s 143ms/step - loss: 0.6885 - accuracy: 0.7120 - val_loss: 0.6898 - val_accuracy: 0.6667\n",
            "Epoch 18/50\n",
            "16/16 [==============================] - 2s 138ms/step - loss: 0.6883 - accuracy: 0.7040 - val_loss: 0.6895 - val_accuracy: 0.6000\n",
            "Epoch 19/50\n",
            "16/16 [==============================] - 2s 143ms/step - loss: 0.6879 - accuracy: 0.6640 - val_loss: 0.6888 - val_accuracy: 0.7333\n",
            "Epoch 20/50\n",
            "16/16 [==============================] - 2s 138ms/step - loss: 0.6873 - accuracy: 0.6560 - val_loss: 0.6880 - val_accuracy: 0.7333\n",
            "Epoch 21/50\n",
            "16/16 [==============================] - 2s 144ms/step - loss: 0.6855 - accuracy: 0.6880 - val_loss: 0.6872 - val_accuracy: 0.6667\n",
            "Epoch 22/50\n",
            "16/16 [==============================] - 2s 143ms/step - loss: 0.6845 - accuracy: 0.7040 - val_loss: 0.6857 - val_accuracy: 0.7333\n",
            "Epoch 23/50\n",
            "16/16 [==============================] - 2s 143ms/step - loss: 0.6835 - accuracy: 0.6880 - val_loss: 0.6840 - val_accuracy: 0.7000\n",
            "Epoch 24/50\n",
            "16/16 [==============================] - 2s 142ms/step - loss: 0.6832 - accuracy: 0.6400 - val_loss: 0.6826 - val_accuracy: 0.7333\n",
            "Epoch 25/50\n",
            "16/16 [==============================] - 2s 143ms/step - loss: 0.6780 - accuracy: 0.6880 - val_loss: 0.6803 - val_accuracy: 0.5667\n",
            "Epoch 26/50\n",
            "16/16 [==============================] - 2s 146ms/step - loss: 0.6762 - accuracy: 0.6880 - val_loss: 0.6758 - val_accuracy: 0.6667\n",
            "Epoch 27/50\n",
            "16/16 [==============================] - 2s 143ms/step - loss: 0.6712 - accuracy: 0.6640 - val_loss: 0.6715 - val_accuracy: 0.6667\n",
            "Epoch 28/50\n",
            "16/16 [==============================] - 2s 139ms/step - loss: 0.6655 - accuracy: 0.6800 - val_loss: 0.6617 - val_accuracy: 0.7000\n",
            "Epoch 29/50\n",
            "16/16 [==============================] - 2s 143ms/step - loss: 0.6579 - accuracy: 0.6880 - val_loss: 0.6487 - val_accuracy: 0.6333\n",
            "Epoch 30/50\n",
            "16/16 [==============================] - 2s 145ms/step - loss: 0.6450 - accuracy: 0.6720 - val_loss: 0.6394 - val_accuracy: 0.6667\n",
            "Epoch 31/50\n",
            "16/16 [==============================] - 2s 143ms/step - loss: 0.6396 - accuracy: 0.6480 - val_loss: 0.6152 - val_accuracy: 0.7333\n",
            "Epoch 32/50\n",
            "16/16 [==============================] - 2s 142ms/step - loss: 0.6075 - accuracy: 0.7040 - val_loss: 0.6640 - val_accuracy: 0.6333\n",
            "Epoch 33/50\n",
            "16/16 [==============================] - 2s 143ms/step - loss: 0.6228 - accuracy: 0.6240 - val_loss: 0.6089 - val_accuracy: 0.7333\n",
            "Epoch 34/50\n",
            "16/16 [==============================] - 2s 140ms/step - loss: 0.5734 - accuracy: 0.7200 - val_loss: 0.5739 - val_accuracy: 0.7333\n",
            "Epoch 35/50\n",
            "16/16 [==============================] - 2s 143ms/step - loss: 0.6025 - accuracy: 0.6880 - val_loss: 0.5890 - val_accuracy: 0.7000\n",
            "Epoch 36/50\n",
            "16/16 [==============================] - 2s 137ms/step - loss: 0.5646 - accuracy: 0.7280 - val_loss: 0.5409 - val_accuracy: 0.8000\n",
            "Epoch 37/50\n",
            "16/16 [==============================] - 2s 142ms/step - loss: 0.5611 - accuracy: 0.7120 - val_loss: 0.5633 - val_accuracy: 0.7333\n",
            "Epoch 38/50\n",
            "16/16 [==============================] - 2s 141ms/step - loss: 0.5337 - accuracy: 0.7360 - val_loss: 0.6154 - val_accuracy: 0.6667\n",
            "Epoch 39/50\n",
            "16/16 [==============================] - 2s 143ms/step - loss: 0.4805 - accuracy: 0.7840 - val_loss: 0.5180 - val_accuracy: 0.8000\n",
            "Epoch 40/50\n",
            "16/16 [==============================] - 2s 144ms/step - loss: 0.5038 - accuracy: 0.7680 - val_loss: 0.4932 - val_accuracy: 0.8000\n",
            "Epoch 41/50\n",
            "16/16 [==============================] - 2s 139ms/step - loss: 0.4617 - accuracy: 0.7920 - val_loss: 0.5062 - val_accuracy: 0.8000\n",
            "Epoch 42/50\n",
            "16/16 [==============================] - 2s 144ms/step - loss: 0.4193 - accuracy: 0.7760 - val_loss: 0.6119 - val_accuracy: 0.6667\n",
            "Epoch 43/50\n",
            "16/16 [==============================] - 2s 142ms/step - loss: 0.4328 - accuracy: 0.7680 - val_loss: 0.5043 - val_accuracy: 0.8000\n",
            "Epoch 44/50\n",
            "16/16 [==============================] - 2s 145ms/step - loss: 0.4308 - accuracy: 0.7920 - val_loss: 0.4703 - val_accuracy: 0.8333\n",
            "Epoch 45/50\n",
            "16/16 [==============================] - 2s 144ms/step - loss: 0.3612 - accuracy: 0.8000 - val_loss: 0.5250 - val_accuracy: 0.7333\n",
            "Epoch 46/50\n",
            "16/16 [==============================] - 2s 147ms/step - loss: 0.3701 - accuracy: 0.8080 - val_loss: 0.5236 - val_accuracy: 0.8000\n",
            "Epoch 47/50\n",
            "16/16 [==============================] - 2s 138ms/step - loss: 0.3956 - accuracy: 0.8480 - val_loss: 0.5874 - val_accuracy: 0.6667\n",
            "Epoch 48/50\n",
            "16/16 [==============================] - 2s 147ms/step - loss: 0.3579 - accuracy: 0.8320 - val_loss: 0.4564 - val_accuracy: 0.8333\n",
            "Epoch 49/50\n",
            "16/16 [==============================] - 2s 139ms/step - loss: 0.2906 - accuracy: 0.8880 - val_loss: 0.5080 - val_accuracy: 0.8000\n",
            "Epoch 50/50\n",
            "16/16 [==============================] - 2s 138ms/step - loss: 0.2817 - accuracy: 0.8720 - val_loss: 0.4911 - val_accuracy: 0.8000\n"
          ]
        }
      ]
    },
    {
      "cell_type": "code",
      "metadata": {
        "colab": {
          "base_uri": "https://localhost:8080/",
          "height": 573
        },
        "id": "awhlluKeEEP4",
        "outputId": "f622fb77-e9dd-45ef-b3b6-3ca72e1ad524"
      },
      "source": [
        "plt.plot(history.history['accuracy'])\n",
        "plt.plot(history.history['val_accuracy'])\n",
        "plt.title('model accuracy')\n",
        "plt.ylabel('accuracy')\n",
        "plt.xlabel('epoch')\n",
        "plt.legend(['train', 'validation'], loc='upper left')\n",
        "plt.show()\n",
        "# \"Loss\"\n",
        "plt.plot(history.history['loss'])\n",
        "plt.plot(history.history['val_loss'])\n",
        "plt.title('model loss')\n",
        "plt.ylabel('loss')\n",
        "plt.xlabel('epoch')\n",
        "plt.legend(['train', 'validation'], loc='upper left')\n",
        "plt.show()"
      ],
      "execution_count": 170,
      "outputs": [
        {
          "output_type": "display_data",
          "data": {
            "image/png": "[encoded data removed]",
            "text/plain": [
              "<Figure size 432x288 with 1 Axes>"
            ]
          },
          "metadata": {
            "needs_background": "light"
          }
        },
        {
          "output_type": "display_data",
          "data": {
            "image/png": "[encoded data removed]",
            "text/plain": [
              "<Figure size 432x288 with 1 Axes>"
            ]
          },
          "metadata": {
            "needs_background": "light"
          }
        }
      ]
    },
    {
      "cell_type": "code",
      "metadata": {
        "id": "VV514934Dt0F"
      },
      "source": [
        "model.save('model.h5')"
      ],
      "execution_count": 124,
      "outputs": []
    },
    {
      "cell_type": "code",
      "metadata": {
        "id": "JeV1XSDQt7kv"
      },
      "source": [
        ""
      ],
      "execution_count": null,
      "outputs": []
    }
  ]
}