{
  "nbformat": 4,
  "nbformat_minor": 0,
  "metadata": {
    "colab": {
      "name": "Mnist-ExpertMode.ipynb",
      "provenance": [],
      "collapsed_sections": []
    },
    "kernelspec": {
      "name": "python3",
      "display_name": "Python 3"
    },
    "language_info": {
      "name": "python"
    },
    "accelerator": "GPU"
  },
  "cells": [
    {
      "cell_type": "code",
      "metadata": {
        "id": "wfZjqbTOWWs2"
      },
      "source": [
        "import tensorflow as tf\n",
        "from tensorflow.keras.layers import Dense, Conv2D, Flatten\n"
      ],
      "execution_count": null,
      "outputs": []
    },
    {
      "cell_type": "code",
      "metadata": {
        "colab": {
          "base_uri": "https://localhost:8080/"
        },
        "id": "hUxbocWJXVAr",
        "outputId": "d8239e89-28fc-4214-c8b0-f19b6f1c3025"
      },
      "source": [
        "print(tf.__version__)"
      ],
      "execution_count": null,
      "outputs": [
        {
          "output_type": "stream",
          "name": "stdout",
          "text": [
            "2.6.0\n"
          ]
        }
      ]
    },
    {
      "cell_type": "markdown",
      "metadata": {
        "id": "q3jXtqShaE3t"
      },
      "source": [
        "### Prepare Dataset"
      ]
    },
    {
      "cell_type": "code",
      "metadata": {
        "id": "BPNng6ApXZ0V"
      },
      "source": [
        "mnist = tf.keras.datasets.mnist\n",
        "\n",
        "(X_train, Y_train), (X_test, Y_test) = mnist.load_data()\n",
        "X_train = X_train / 255.0\n",
        "X_test = X_test / 255.0"
      ],
      "execution_count": null,
      "outputs": []
    },
    {
      "cell_type": "code",
      "metadata": {
        "colab": {
          "base_uri": "https://localhost:8080/"
        },
        "id": "bKS9me2JX6yq",
        "outputId": "e8cef6b1-c44b-483c-e081-dd9d8f1f45a5"
      },
      "source": [
        "X_train.shape"
      ],
      "execution_count": null,
      "outputs": [
        {
          "output_type": "execute_result",
          "data": {
            "text/plain": [
              "(60000, 28, 28)"
            ]
          },
          "metadata": {},
          "execution_count": 33
        }
      ]
    },
    {
      "cell_type": "code",
      "metadata": {
        "id": "IIBTO2ThX9DF"
      },
      "source": [
        "# add a channels dimention\n",
        "\n",
        "X_train = X_train[..., tf.newaxis].astype(\"float32\")\n",
        "X_test = X_test[..., tf.newaxis].astype(\"float32\")"
      ],
      "execution_count": null,
      "outputs": []
    },
    {
      "cell_type": "code",
      "metadata": {
        "colab": {
          "base_uri": "https://localhost:8080/"
        },
        "id": "AMeHpjsyYt9i",
        "outputId": "72cf5810-2b3e-480d-8490-b21820f29e61"
      },
      "source": [
        "X_train.shape"
      ],
      "execution_count": null,
      "outputs": [
        {
          "output_type": "execute_result",
          "data": {
            "text/plain": [
              "(60000, 28, 28, 1)"
            ]
          },
          "metadata": {},
          "execution_count": 35
        }
      ]
    },
    {
      "cell_type": "code",
      "metadata": {
        "id": "zxYuA--uYvdt"
      },
      "source": [
        "train_data = tf.data.Dataset.from_tensor_slices((X_train, Y_train)).shuffle(10000).batch(32)\n",
        "test_data = tf.data.Dataset.from_tensor_slices((X_test, Y_test)).batch(32)"
      ],
      "execution_count": null,
      "outputs": []
    },
    {
      "cell_type": "markdown",
      "metadata": {
        "id": "xxs5DBCOaaLa"
      },
      "source": [
        "### Define Model"
      ]
    },
    {
      "cell_type": "code",
      "metadata": {
        "id": "mIHYdVFvZqbR"
      },
      "source": [
        "class MyModel(tf.keras.Model):\n",
        "  def __init__(self, num_class):\n",
        "    super().__init__()\n",
        "    self.conv1 = Conv2D(32, (3, 3), activation='relu')\n",
        "    self.flatten = Flatten()\n",
        "    self.fc1 = Dense(128, activation='relu')\n",
        "    self.fc2 = Dense(num_class)\n",
        "\n",
        "  def call(self, x):\n",
        "    y = self.conv1(x)\n",
        "    # y.shape = 26*26*32\n",
        "\n",
        "    w = self.flatten(y)\n",
        "    # w.shape = 1 * 21632\n",
        "\n",
        "    z = self.fc1(w)\n",
        "    # z.shape = 1 * 128\n",
        "\n",
        "    output = self.fc2(z)\n",
        "    # output.shape = 1 * 10\n",
        "\n",
        "    return output\n",
        "\n",
        "model = MyModel(10)"
      ],
      "execution_count": null,
      "outputs": []
    },
    {
      "cell_type": "code",
      "metadata": {
        "id": "1bfp11HIhbEl"
      },
      "source": [
        "loss_function = tf.keras.losses.SparseCategoricalCrossentropy(from_logits=True)\n",
        "optimizer = tf.keras.optimizers.Adam()"
      ],
      "execution_count": null,
      "outputs": []
    },
    {
      "cell_type": "code",
      "metadata": {
        "id": "VBTK-fgMjzbv"
      },
      "source": [
        "train_loss = tf.keras.metrics.Mean(name='train_loss')\n",
        "train_acc = tf.keras.metrics.SparseCategoricalAccuracy(name='train_acc')\n",
        "\n",
        "test_loss = tf.keras.metrics.Mean(name='test_loss')\n",
        "test_acc = tf.keras.metrics.SparseCategoricalAccuracy(name='test_acc')"
      ],
      "execution_count": null,
      "outputs": []
    },
    {
      "cell_type": "code",
      "metadata": {
        "id": "NpqZ2re1kwh7"
      },
      "source": [
        "def train_step(images, y):\n",
        "  with tf.GradientTape() as tape:\n",
        "    y_pred =  model(images, training = True)\n",
        "    loss = loss_function(y, y_pred)\n",
        "\n",
        "  # calculate gradient\n",
        "  gradient = tape.gradient(loss, model.trainable_variables)\n",
        "  \n",
        "  # update\n",
        "  optimizer.apply_gradients(zip(gradient, model.trainable_variables))\n",
        "\n",
        "  train_loss(loss)\n",
        "  train_acc(y, y_pred)\n"
      ],
      "execution_count": null,
      "outputs": []
    },
    {
      "cell_type": "code",
      "metadata": {
        "id": "2yzgz41YuEpo"
      },
      "source": [
        "def test_step(images, y):\n",
        "  y_pred = model(images, training=False)\n",
        "  loss = loss_function(y, y_pred)\n",
        "\n",
        "  test_loss(loss)\n",
        "  test_acc(y, y_pred)"
      ],
      "execution_count": null,
      "outputs": []
    },
    {
      "cell_type": "code",
      "metadata": {
        "id": "BWaO_Z040bBy"
      },
      "source": [
        "from tqdm import tqdm"
      ],
      "execution_count": null,
      "outputs": []
    },
    {
      "cell_type": "code",
      "metadata": {
        "id": "-hK0AxCuk3hZ"
      },
      "source": [
        "def train():\n",
        "  epochs = 5\n",
        "\n",
        "  for epoch in range(epochs):\n",
        "    train_loss.reset_state()\n",
        "    train_acc.reset_state()\n",
        "    test_loss.reset_state()\n",
        "    test_acc.reset_state()\n",
        "\n",
        "    for images, labels in tqdm(train_data):\n",
        "      train_step(images, labels)\n",
        "\n",
        "    for images, labels in tqdm(test_data):\n",
        "      test_step(images, labels)\n",
        "\n",
        "    print('epoch: ', epoch + 1)\n",
        "    print('loss: ', train_loss.result())\n",
        "    print('accuracy: ', train_acc.result())\n",
        "\n",
        "    print('epoch: ', epoch + 1)\n",
        "    print('val loss: ', test_loss.result())\n",
        "    print('val accuracy: ', test_acc.result())"
      ],
      "execution_count": null,
      "outputs": []
    },
    {
      "cell_type": "code",
      "metadata": {
        "colab": {
          "base_uri": "https://localhost:8080/"
        },
        "id": "Z-gt43Gbtqs9",
        "outputId": "67863b51-82d7-4eef-8a7e-c856ccc70522"
      },
      "source": [
        "# fit\n",
        "\n",
        "train()"
      ],
      "execution_count": null,
      "outputs": [
        {
          "output_type": "stream",
          "name": "stderr",
          "text": [
            "100%|██████████| 1875/1875 [00:28<00:00, 64.84it/s]\n",
            "100%|██████████| 313/313 [00:02<00:00, 118.57it/s]\n"
          ]
        },
        {
          "output_type": "stream",
          "name": "stdout",
          "text": [
            "epoch:  1\n",
            "loss:  tf.Tensor(0.0071229893, shape=(), dtype=float32)\n",
            "accuracy:  tf.Tensor(0.9975833, shape=(), dtype=float32)\n",
            "epoch:  1\n",
            "val loss:  tf.Tensor(0.071983896, shape=(), dtype=float32)\n",
            "val accuracy:  tf.Tensor(0.9834, shape=(), dtype=float32)\n"
          ]
        },
        {
          "output_type": "stream",
          "name": "stderr",
          "text": [
            "100%|██████████| 1875/1875 [00:28<00:00, 65.44it/s]\n",
            "100%|██████████| 313/313 [00:02<00:00, 121.15it/s]\n"
          ]
        },
        {
          "output_type": "stream",
          "name": "stdout",
          "text": [
            "epoch:  2\n",
            "loss:  tf.Tensor(0.004599823, shape=(), dtype=float32)\n",
            "accuracy:  tf.Tensor(0.9985, shape=(), dtype=float32)\n",
            "epoch:  2\n",
            "val loss:  tf.Tensor(0.06381927, shape=(), dtype=float32)\n",
            "val accuracy:  tf.Tensor(0.9849, shape=(), dtype=float32)\n"
          ]
        },
        {
          "output_type": "stream",
          "name": "stderr",
          "text": [
            "100%|██████████| 1875/1875 [00:29<00:00, 64.42it/s]\n",
            "100%|██████████| 313/313 [00:02<00:00, 120.27it/s]\n"
          ]
        },
        {
          "output_type": "stream",
          "name": "stdout",
          "text": [
            "epoch:  3\n",
            "loss:  tf.Tensor(0.0057296385, shape=(), dtype=float32)\n",
            "accuracy:  tf.Tensor(0.9982833, shape=(), dtype=float32)\n",
            "epoch:  3\n",
            "val loss:  tf.Tensor(0.07149253, shape=(), dtype=float32)\n",
            "val accuracy:  tf.Tensor(0.985, shape=(), dtype=float32)\n"
          ]
        },
        {
          "output_type": "stream",
          "name": "stderr",
          "text": [
            "100%|██████████| 1875/1875 [00:28<00:00, 65.08it/s]\n",
            "100%|██████████| 313/313 [00:02<00:00, 121.81it/s]\n"
          ]
        },
        {
          "output_type": "stream",
          "name": "stdout",
          "text": [
            "epoch:  4\n",
            "loss:  tf.Tensor(0.0044878284, shape=(), dtype=float32)\n",
            "accuracy:  tf.Tensor(0.9985167, shape=(), dtype=float32)\n",
            "epoch:  4\n",
            "val loss:  tf.Tensor(0.085839376, shape=(), dtype=float32)\n",
            "val accuracy:  tf.Tensor(0.9838, shape=(), dtype=float32)\n"
          ]
        },
        {
          "output_type": "stream",
          "name": "stderr",
          "text": [
            "100%|██████████| 1875/1875 [00:28<00:00, 64.66it/s]\n",
            "100%|██████████| 313/313 [00:02<00:00, 122.21it/s]"
          ]
        },
        {
          "output_type": "stream",
          "name": "stdout",
          "text": [
            "epoch:  5\n",
            "loss:  tf.Tensor(0.003135906, shape=(), dtype=float32)\n",
            "accuracy:  tf.Tensor(0.9989333, shape=(), dtype=float32)\n",
            "epoch:  5\n",
            "val loss:  tf.Tensor(0.07076751, shape=(), dtype=float32)\n",
            "val accuracy:  tf.Tensor(0.9853, shape=(), dtype=float32)\n"
          ]
        },
        {
          "output_type": "stream",
          "name": "stderr",
          "text": [
            "\n"
          ]
        }
      ]
    },
    {
      "cell_type": "code",
      "metadata": {
        "id": "Pu6Rnm3Oxjww"
      },
      "source": [
        ""
      ],
      "execution_count": null,
      "outputs": []
    }
  ]
}