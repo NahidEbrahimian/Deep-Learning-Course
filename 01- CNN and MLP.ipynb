{
  "nbformat": 4,
  "nbformat_minor": 0,
  "metadata": {
    "colab": {
      "name": "deep1.ipynb",
      "provenance": []
    },
    "kernelspec": {
      "name": "python3",
      "display_name": "Python 3"
    },
    "language_info": {
      "name": "python"
    },
    "accelerator": "GPU"
  },
  "cells": [
    {
      "cell_type": "code",
      "metadata": {
        "colab": {
          "base_uri": "https://localhost:8080/"
        },
        "id": "ddP80WLFIMK6",
        "outputId": "4e69b3df-5efe-43c7-8d8a-aed8fb58c24d"
      },
      "source": [
        "cd /content/drive/MyDrive/deep1"
      ],
      "execution_count": 95,
      "outputs": [
        {
          "output_type": "stream",
          "name": "stdout",
          "text": [
            "/content/drive/MyDrive/MachineLearning/deep1\n"
          ]
        }
      ]
    },
    {
      "cell_type": "code",
      "metadata": {
        "id": "cLXIifbQIn7N"
      },
      "source": [
        "import tensorflow as tf\n",
        "from tensorflow.keras.layers import Dense, Conv2D, MaxPool2D, Flatten\n",
        "import numpy as np\n",
        "import matplotlib.pyplot as plt\n",
        "from tensorflow.keras.utils import to_categorical\n",
        "from sklearn.model_selection import train_test_split\n",
        "# from google.colab.patches import cv2_imshow"
      ],
      "execution_count": 2,
      "outputs": []
    },
    {
      "cell_type": "markdown",
      "metadata": {
        "id": "xrBPxP2Y6MAv"
      },
      "source": [
        "## mnist dataset"
      ]
    },
    {
      "cell_type": "code",
      "metadata": {
        "colab": {
          "base_uri": "https://localhost:8080/"
        },
        "id": "d0tlxWR7Iv6y",
        "outputId": "f0ddf9e1-8fc3-4eed-dc33-50bf4f8bf4d7"
      },
      "source": [
        "#load dataset\n",
        "dataset = tf.keras.datasets.mnist\n",
        "(X_train, Y_train), (X_test, Y_test) = dataset.load_data()\n",
        "\n",
        "print(X_train.shape, Y_train.shape, X_test.shape, Y_test.shape)\n",
        "print(X_train.min(), X_train.max(), X_train.dtype)\n",
        "print(X_test.min(), X_test.max(), X_test.dtype)\n",
        "print(Y_train.min(), Y_train.max(), Y_train.dtype)\n",
        "print(Y_test.min(), Y_test.max(), Y_test.dtype)"
      ],
      "execution_count": 97,
      "outputs": [
        {
          "output_type": "stream",
          "name": "stdout",
          "text": [
            "(60000, 28, 28) (60000,) (10000, 28, 28) (10000,)\n",
            "0 255 uint8\n",
            "0 255 uint8\n",
            "0 9 uint8\n",
            "0 9 uint8\n"
          ]
        }
      ]
    },
    {
      "cell_type": "code",
      "metadata": {
        "colab": {
          "base_uri": "https://localhost:8080/",
          "height": 282
        },
        "id": "TCJjFZpj03i4",
        "outputId": "7745f8eb-4c3a-420e-f262-bb2730ce1eda"
      },
      "source": [
        "plt.imshow(X_train[5], cmap = 'gray')"
      ],
      "execution_count": 98,
      "outputs": [
        {
          "output_type": "execute_result",
          "data": {
            "text/plain": [
              "<matplotlib.image.AxesImage at 0x7f3db37ca910>"
            ]
          },
          "metadata": {},
          "execution_count": 98
        },
        {
          "output_type": "display_data",
          "data": {
            "image/png": "[encoded data removed]",
            "text/plain": [
              "<Figure size 432x288 with 1 Axes>"
            ]
          },
          "metadata": {
            "needs_background": "light"
          }
        }
      ]
    },
    {
      "cell_type": "code",
      "metadata": {
        "colab": {
          "base_uri": "https://localhost:8080/"
        },
        "id": "K189Nu-lJB4T",
        "outputId": "6e7cfc76-e783-4e55-e87a-6c7ea9684cb6"
      },
      "source": [
        "#normalize and convert labels to_categorical\n",
        "X_train = X_train.astype('float32') / 255.\n",
        "X_test = X_test.astype('float32') / 255.\n",
        "print(X_train.min(), X_train.max(), X_train.dtype)\n",
        "\n",
        "classes = np.unique(Y_train)\n",
        "Y_train = to_categorical(Y_train, num_classes=len(classes))\n",
        "Y_test = to_categorical(Y_test, num_classes=len(classes))\n",
        "print(Y_train.shape, Y_test.shape)\n",
        "print(Y_train[0])"
      ],
      "execution_count": 99,
      "outputs": [
        {
          "output_type": "stream",
          "name": "stdout",
          "text": [
            "0.0 1.0 float32\n",
            "(60000, 10) (10000, 10)\n",
            "[0. 0. 0. 0. 0. 1. 0. 0. 0. 0.]\n"
          ]
        }
      ]
    },
    {
      "cell_type": "markdown",
      "metadata": {
        "id": "dbdo_A2mTaSA"
      },
      "source": [
        "### deep model(cnn) on mnist dataset\n"
      ]
    },
    {
      "cell_type": "code",
      "metadata": {
        "id": "lcS-IxIbEonM",
        "colab": {
          "base_uri": "https://localhost:8080/"
        },
        "outputId": "1fb4b454-2560-48ba-c10d-a04dacb87c94"
      },
      "source": [
        "input_shape = (28, 28, 1)\n",
        "\n",
        "model = tf.keras.models.Sequential([\n",
        "         Conv2D(32, (3, 3), input_shape=input_shape, activation='relu'),\n",
        "         MaxPool2D((2, 2)),\n",
        "         Flatten(),\n",
        "         Dense(100, activation='relu'),\n",
        "         Dense(10, activation='softmax')                          \n",
        "])\n",
        "\n",
        "model.compile(optimizer=tf.keras.optimizers.Adam(),\n",
        "              loss=tf.keras.losses.categorical_crossentropy,\n",
        "              metrics='accuracy')\n",
        "\n",
        "model.summary()"
      ],
      "execution_count": 100,
      "outputs": [
        {
          "output_type": "stream",
          "name": "stdout",
          "text": [
            "Model: \"sequential_16\"\n",
            "_________________________________________________________________\n",
            "Layer (type)                 Output Shape              Param #   \n",
            "=================================================================\n",
            "conv2d_8 (Conv2D)            (None, 26, 26, 32)        320       \n",
            "_________________________________________________________________\n",
            "max_pooling2d_8 (MaxPooling2 (None, 13, 13, 32)        0         \n",
            "_________________________________________________________________\n",
            "flatten_8 (Flatten)          (None, 5408)              0         \n",
            "_________________________________________________________________\n",
            "dense_40 (Dense)             (None, 100)               540900    \n",
            "_________________________________________________________________\n",
            "dense_41 (Dense)             (None, 10)                1010      \n",
            "=================================================================\n",
            "Total params: 542,230\n",
            "Trainable params: 542,230\n",
            "Non-trainable params: 0\n",
            "_________________________________________________________________\n"
          ]
        }
      ]
    },
    {
      "cell_type": "code",
      "metadata": {
        "colab": {
          "base_uri": "https://localhost:8080/"
        },
        "id": "i5JWJreJGr5U",
        "outputId": "a9d022b7-e1cb-4857-81a6-bc7daf89f145"
      },
      "source": [
        "X_train1 = X_train[..., tf.newaxis]\n",
        "X_train1, X_val1, Y_train1, Y_val1 = train_test_split(X_train1, Y_train, test_size=0.2)\n",
        "\n",
        "model.fit(X_train1, Y_train1, validation_data=(X_val1, Y_val1), epochs=5)"
      ],
      "execution_count": 101,
      "outputs": [
        {
          "output_type": "stream",
          "name": "stdout",
          "text": [
            "Epoch 1/5\n",
            "1500/1500 [==============================] - 32s 21ms/step - loss: 0.1751 - accuracy: 0.9476 - val_loss: 0.0765 - val_accuracy: 0.9780\n",
            "Epoch 2/5\n",
            "1500/1500 [==============================] - 31s 21ms/step - loss: 0.0620 - accuracy: 0.9809 - val_loss: 0.0611 - val_accuracy: 0.9827\n",
            "Epoch 3/5\n",
            "1500/1500 [==============================] - 31s 21ms/step - loss: 0.0395 - accuracy: 0.9876 - val_loss: 0.0468 - val_accuracy: 0.9850\n",
            "Epoch 4/5\n",
            "1500/1500 [==============================] - 31s 21ms/step - loss: 0.0268 - accuracy: 0.9916 - val_loss: 0.0497 - val_accuracy: 0.9862\n",
            "Epoch 5/5\n",
            "1500/1500 [==============================] - 31s 20ms/step - loss: 0.0193 - accuracy: 0.9939 - val_loss: 0.0536 - val_accuracy: 0.9841\n"
          ]
        },
        {
          "output_type": "execute_result",
          "data": {
            "text/plain": [
              "<keras.callbacks.History at 0x7f3d9a2d5a10>"
            ]
          },
          "metadata": {},
          "execution_count": 101
        }
      ]
    },
    {
      "cell_type": "code",
      "metadata": {
        "colab": {
          "base_uri": "https://localhost:8080/"
        },
        "id": "BW63aTlyWflR",
        "outputId": "24264539-4723-4377-f09a-f16d99c0d32a"
      },
      "source": [
        "# evaluate\n",
        "X_test1 = X_test[..., tf.newaxis]\n",
        "acc = model.evaluate(X_test1, Y_test)\n",
        "\n",
        "print(\"deep model accuracy \", acc)"
      ],
      "execution_count": 102,
      "outputs": [
        {
          "output_type": "stream",
          "name": "stdout",
          "text": [
            "313/313 [==============================] - 2s 8ms/step - loss: 0.0576 - accuracy: 0.9829\n",
            "deep model accuracy  [0.05764823034405708, 0.9829000234603882]\n"
          ]
        }
      ]
    },
    {
      "cell_type": "markdown",
      "metadata": {
        "id": "fjia0742UkkU"
      },
      "source": [
        "### mlp on mnist dataset"
      ]
    },
    {
      "cell_type": "code",
      "metadata": {
        "colab": {
          "base_uri": "https://localhost:8080/"
        },
        "id": "1dxX0G4B4rwr",
        "outputId": "ca7c4aef-57b8-43cc-dc91-af706e99aefc"
      },
      "source": [
        "X_train = np.reshape(X_train, (-1, X_train.shape[1]* X_train.shape[2]))\n",
        "X_test = np.reshape(X_test, (-1, X_test.shape[1] * X_test.shape[2]))\n",
        "print(X_train.shape, X_test.shape)"
      ],
      "execution_count": 103,
      "outputs": [
        {
          "output_type": "stream",
          "name": "stdout",
          "text": [
            "(60000, 784) (10000, 784)\n"
          ]
        }
      ]
    },
    {
      "cell_type": "code",
      "metadata": {
        "id": "3pQMVOD9Jq7j"
      },
      "source": [
        "input_dim = X_train.shape[1]\n",
        "\n",
        "model = tf.keras.models.Sequential([\n",
        "         Dense(64, input_dim = input_dim, activation='relu'),\n",
        "         Dense(32, activation = 'relu'),\n",
        "         Dense(10, activation='softmax')                          \n",
        "])\n",
        "\n",
        "model.compile(optimizer=tf.keras.optimizers.Adam(),\n",
        "              loss=tf.keras.losses.categorical_crossentropy,\n",
        "              metrics='accuracy')"
      ],
      "execution_count": 104,
      "outputs": []
    },
    {
      "cell_type": "code",
      "metadata": {
        "colab": {
          "base_uri": "https://localhost:8080/"
        },
        "id": "PtFbtSOBMUO-",
        "outputId": "b6fc763d-f38c-47cf-ac32-836e3ca5b70b"
      },
      "source": [
        "X_train, X_val, Y_train, Y_val = train_test_split(X_train, Y_train, test_size=0.2)\n",
        "\n",
        "model.fit(X_train, Y_train, validation_data=(X_val, Y_val), epochs=5)"
      ],
      "execution_count": 105,
      "outputs": [
        {
          "output_type": "stream",
          "name": "stdout",
          "text": [
            "Epoch 1/5\n",
            "1500/1500 [==============================] - 4s 2ms/step - loss: 0.3250 - accuracy: 0.9047 - val_loss: 0.1754 - val_accuracy: 0.9472\n",
            "Epoch 2/5\n",
            "1500/1500 [==============================] - 3s 2ms/step - loss: 0.1440 - accuracy: 0.9569 - val_loss: 0.1330 - val_accuracy: 0.9592\n",
            "Epoch 3/5\n",
            "1500/1500 [==============================] - 3s 2ms/step - loss: 0.1064 - accuracy: 0.9679 - val_loss: 0.1178 - val_accuracy: 0.9646\n",
            "Epoch 4/5\n",
            "1500/1500 [==============================] - 4s 2ms/step - loss: 0.0828 - accuracy: 0.9747 - val_loss: 0.1089 - val_accuracy: 0.9675\n",
            "Epoch 5/5\n",
            "1500/1500 [==============================] - 3s 2ms/step - loss: 0.0682 - accuracy: 0.9784 - val_loss: 0.1109 - val_accuracy: 0.9663\n"
          ]
        },
        {
          "output_type": "execute_result",
          "data": {
            "text/plain": [
              "<keras.callbacks.History at 0x7f3d936cf490>"
            ]
          },
          "metadata": {},
          "execution_count": 105
        }
      ]
    },
    {
      "cell_type": "code",
      "metadata": {
        "colab": {
          "base_uri": "https://localhost:8080/"
        },
        "id": "hO9WHnyvNxBc",
        "outputId": "ad2a7e98-9b04-4428-88f9-aa01cfdbc46b"
      },
      "source": [
        "# eavaluate\n",
        "acc = mlp_model.evaluate(X_test, Y_test)\n",
        "print(\"mlp accuracy\", acc)"
      ],
      "execution_count": 106,
      "outputs": [
        {
          "output_type": "stream",
          "name": "stdout",
          "text": [
            "313/313 [==============================] - 1s 2ms/step - loss: 0.1018 - accuracy: 0.9706\n",
            "mlp accuracy [0.10180678218603134, 0.9706000089645386]\n"
          ]
        }
      ]
    },
    {
      "cell_type": "markdown",
      "metadata": {
        "id": "rd6_DRGm6Phj"
      },
      "source": [
        "# fasion_mnist dataset"
      ]
    },
    {
      "cell_type": "code",
      "metadata": {
        "id": "gimUGoFuOKcE",
        "colab": {
          "base_uri": "https://localhost:8080/"
        },
        "outputId": "79985f1e-5c15-47e9-8e11-083c3ac22b19"
      },
      "source": [
        "dataset = tf.keras.datasets.fashion_mnist\n",
        "(X_train, Y_train), (X_test, Y_test) = dataset.load_data()\n",
        "\n",
        "print(X_train.shape, Y_train.shape, X_test.shape, Y_test.shape)\n",
        "print(X_train.min(), X_train.max(), X_train.dtype)\n",
        "print(X_test.min(), X_test.max(), X_test.dtype)\n",
        "print(Y_train.min(), Y_train.max(), Y_train.dtype)\n",
        "print(Y_test.min(), Y_test.max(), Y_test.dtype)"
      ],
      "execution_count": 107,
      "outputs": [
        {
          "output_type": "stream",
          "name": "stdout",
          "text": [
            "(60000, 28, 28) (60000,) (10000, 28, 28) (10000,)\n",
            "0 255 uint8\n",
            "0 255 uint8\n",
            "0 9 uint8\n",
            "0 9 uint8\n"
          ]
        }
      ]
    },
    {
      "cell_type": "code",
      "metadata": {
        "colab": {
          "base_uri": "https://localhost:8080/",
          "height": 282
        },
        "id": "ym9nZk_G6elT",
        "outputId": "d3ec9d84-d979-4078-a659-389c9e67c64b"
      },
      "source": [
        "plt.imshow(X_train[5], cmap = 'gray')"
      ],
      "execution_count": 108,
      "outputs": [
        {
          "output_type": "execute_result",
          "data": {
            "text/plain": [
              "<matplotlib.image.AxesImage at 0x7f3d93617610>"
            ]
          },
          "metadata": {},
          "execution_count": 108
        },
        {
          "output_type": "display_data",
          "data": {
            "image/png": "[encoded data removed]",
            "text/plain": [
              "<Figure size 432x288 with 1 Axes>"
            ]
          },
          "metadata": {
            "needs_background": "light"
          }
        }
      ]
    },
    {
      "cell_type": "code",
      "metadata": {
        "colab": {
          "base_uri": "https://localhost:8080/"
        },
        "id": "C8n6Fmod6hHc",
        "outputId": "36d0b69f-72b6-4024-cec9-228f98d032d9"
      },
      "source": [
        "X_train = X_train.astype('float32') / 255.\n",
        "X_test = X_test.astype('float32') / 255.\n",
        "\n",
        "print(X_train.min(), X_train.max(), X_train.dtype)\n",
        "\n",
        "classes = np.unique(Y_train)\n",
        "Y_train = to_categorical(Y_train, num_classes=len(classes))\n",
        "Y_test = to_categorical(Y_test, num_classes=len(classes))\n",
        "print(Y_train.shape, Y_test.shape)\n",
        "print(Y_train[0])"
      ],
      "execution_count": 109,
      "outputs": [
        {
          "output_type": "stream",
          "name": "stdout",
          "text": [
            "0.0 1.0 float32\n",
            "(60000, 10) (10000, 10)\n",
            "[0. 0. 0. 0. 0. 0. 0. 0. 0. 1.]\n"
          ]
        }
      ]
    },
    {
      "cell_type": "markdown",
      "metadata": {
        "id": "rQGVU22HXVCK"
      },
      "source": [
        "### deep model(cnn) on fasion_mnist dataset"
      ]
    },
    {
      "cell_type": "code",
      "metadata": {
        "id": "u539rtYBVRhP",
        "colab": {
          "base_uri": "https://localhost:8080/"
        },
        "outputId": "dc266b61-bcd6-4310-ad36-bb7a6db58acd"
      },
      "source": [
        "input_shape = (28, 28, 1)\n",
        "\n",
        "model = tf.keras.models.Sequential([\n",
        "         Conv2D(64, (3, 3), input_shape=input_shape, activation='relu'),\n",
        "         MaxPool2D((2, 2)),\n",
        "         Flatten(),\n",
        "         Dense(100, activation='relu'),\n",
        "         Dense(10, activation='softmax')                          \n",
        "])\n",
        "\n",
        "model.compile(optimizer=tf.keras.optimizers.Adam(),\n",
        "              loss=tf.keras.losses.categorical_crossentropy,\n",
        "              metrics='accuracy')\n",
        "\n",
        "model.summary()"
      ],
      "execution_count": 110,
      "outputs": [
        {
          "output_type": "stream",
          "name": "stdout",
          "text": [
            "Model: \"sequential_18\"\n",
            "_________________________________________________________________\n",
            "Layer (type)                 Output Shape              Param #   \n",
            "=================================================================\n",
            "conv2d_9 (Conv2D)            (None, 26, 26, 64)        640       \n",
            "_________________________________________________________________\n",
            "max_pooling2d_9 (MaxPooling2 (None, 13, 13, 64)        0         \n",
            "_________________________________________________________________\n",
            "flatten_9 (Flatten)          (None, 10816)             0         \n",
            "_________________________________________________________________\n",
            "dense_45 (Dense)             (None, 100)               1081700   \n",
            "_________________________________________________________________\n",
            "dense_46 (Dense)             (None, 10)                1010      \n",
            "=================================================================\n",
            "Total params: 1,083,350\n",
            "Trainable params: 1,083,350\n",
            "Non-trainable params: 0\n",
            "_________________________________________________________________\n"
          ]
        }
      ]
    },
    {
      "cell_type": "code",
      "metadata": {
        "id": "6UtCawPRVZkv",
        "colab": {
          "base_uri": "https://localhost:8080/"
        },
        "outputId": "56c097df-c479-47bc-8ac5-ef2925fab00c"
      },
      "source": [
        "X_train1 = X_train[..., tf.newaxis]\n",
        "X_test1 = X_test[..., tf.newaxis]\n",
        "\n",
        "X_train1, X_val1, Y_train1, Y_val1 = train_test_split(X_train1, Y_train, test_size=0.2)\n",
        "\n",
        "model.fit(X_train1, Y_train1, validation_data=(X_val1, Y_val1), epochs=5)"
      ],
      "execution_count": 111,
      "outputs": [
        {
          "output_type": "stream",
          "name": "stdout",
          "text": [
            "Epoch 1/5\n",
            "1500/1500 [==============================] - 51s 34ms/step - loss: 0.3980 - accuracy: 0.8579 - val_loss: 0.3001 - val_accuracy: 0.8926\n",
            "Epoch 2/5\n",
            "1500/1500 [==============================] - 48s 32ms/step - loss: 0.2686 - accuracy: 0.9017 - val_loss: 0.2646 - val_accuracy: 0.9046\n",
            "Epoch 3/5\n",
            "1500/1500 [==============================] - 48s 32ms/step - loss: 0.2224 - accuracy: 0.9183 - val_loss: 0.2519 - val_accuracy: 0.9115\n",
            "Epoch 4/5\n",
            "1500/1500 [==============================] - 47s 32ms/step - loss: 0.1873 - accuracy: 0.9309 - val_loss: 0.2498 - val_accuracy: 0.9124\n",
            "Epoch 5/5\n",
            "1500/1500 [==============================] - 48s 32ms/step - loss: 0.1580 - accuracy: 0.9419 - val_loss: 0.2801 - val_accuracy: 0.9043\n"
          ]
        },
        {
          "output_type": "execute_result",
          "data": {
            "text/plain": [
              "<keras.callbacks.History at 0x7f3d934f6590>"
            ]
          },
          "metadata": {},
          "execution_count": 111
        }
      ]
    },
    {
      "cell_type": "code",
      "metadata": {
        "colab": {
          "base_uri": "https://localhost:8080/"
        },
        "id": "OYCZVmzRYWUw",
        "outputId": "87b2eb09-a967-4065-e059-0f1d10d7337b"
      },
      "source": [
        "# evaluate\n",
        "acc = model.evaluate(X_test1, Y_test)\n",
        "\n",
        "print(\"deep model accuracy \", acc)"
      ],
      "execution_count": 112,
      "outputs": [
        {
          "output_type": "stream",
          "name": "stdout",
          "text": [
            "313/313 [==============================] - 3s 10ms/step - loss: 0.2972 - accuracy: 0.8976\n",
            "deep model accuracy  [0.29716673493385315, 0.897599995136261]\n"
          ]
        }
      ]
    },
    {
      "cell_type": "markdown",
      "metadata": {
        "id": "2fpY8WAsXvM3"
      },
      "source": [
        "### MLP on on fasion_mnist dataset"
      ]
    },
    {
      "cell_type": "code",
      "metadata": {
        "colab": {
          "base_uri": "https://localhost:8080/"
        },
        "id": "JDQlDyO0yxxo",
        "outputId": "0112a3d6-8cbd-441f-d5c1-ba3e1f0a2878"
      },
      "source": [
        "X_train = np.reshape(X_train, (-1, X_train.shape[1]* X_train.shape[2]))\n",
        "X_test = np.reshape(X_test, (-1, X_test.shape[1] * X_test.shape[2]))\n",
        "print(X_train.shape, X_test.shape)\n"
      ],
      "execution_count": 120,
      "outputs": [
        {
          "output_type": "stream",
          "name": "stdout",
          "text": [
            "(150000, 1024) (30000, 1024)\n"
          ]
        }
      ]
    },
    {
      "cell_type": "code",
      "metadata": {
        "id": "SR88IyUp73SY"
      },
      "source": [
        "input_dim = X_train.shape[1]\n",
        "\n",
        "model = tf.keras.models.Sequential([\n",
        "         Dense(64, input_dim = input_dim, activation='relu'),\n",
        "         Dense(32, activation = 'relu'),\n",
        "         Dense(10, activation='softmax')                          \n",
        "])\n",
        "\n",
        "model.compile(optimizer=tf.keras.optimizers.Adam(),\n",
        "              loss=tf.keras.losses.categorical_crossentropy,\n",
        "              metrics='accuracy')"
      ],
      "execution_count": 121,
      "outputs": []
    },
    {
      "cell_type": "code",
      "metadata": {
        "colab": {
          "base_uri": "https://localhost:8080/"
        },
        "id": "TvnxPEKw79bI",
        "outputId": "c250cfdd-da83-4afd-adcf-a18e019aed75"
      },
      "source": [
        "X_train, X_val, Y_train, Y_val = train_test_split(X_train, Y_train, test_size=0.2)\n",
        "\n",
        "model.fit(X_train, Y_train, validation_data = (X_val, Y_val), epochs=10)"
      ],
      "execution_count": 115,
      "outputs": [
        {
          "output_type": "stream",
          "name": "stdout",
          "text": [
            "Epoch 1/10\n",
            "1500/1500 [==============================] - 4s 2ms/step - loss: 0.5519 - accuracy: 0.8102 - val_loss: 0.4435 - val_accuracy: 0.8373\n",
            "Epoch 2/10\n",
            "1500/1500 [==============================] - 4s 2ms/step - loss: 0.4026 - accuracy: 0.8555 - val_loss: 0.3725 - val_accuracy: 0.8610\n",
            "Epoch 3/10\n",
            "1500/1500 [==============================] - 4s 3ms/step - loss: 0.3624 - accuracy: 0.8690 - val_loss: 0.3762 - val_accuracy: 0.8602\n",
            "Epoch 4/10\n",
            "1500/1500 [==============================] - 4s 2ms/step - loss: 0.3376 - accuracy: 0.8759 - val_loss: 0.3504 - val_accuracy: 0.8685\n",
            "Epoch 5/10\n",
            "1500/1500 [==============================] - 4s 2ms/step - loss: 0.3170 - accuracy: 0.8833 - val_loss: 0.3486 - val_accuracy: 0.8683\n",
            "Epoch 6/10\n",
            "1500/1500 [==============================] - 4s 2ms/step - loss: 0.3018 - accuracy: 0.8880 - val_loss: 0.3499 - val_accuracy: 0.8699\n",
            "Epoch 7/10\n",
            "1500/1500 [==============================] - 4s 2ms/step - loss: 0.2911 - accuracy: 0.8923 - val_loss: 0.3507 - val_accuracy: 0.8743\n",
            "Epoch 8/10\n",
            "1500/1500 [==============================] - 3s 2ms/step - loss: 0.2826 - accuracy: 0.8961 - val_loss: 0.3330 - val_accuracy: 0.8800\n",
            "Epoch 9/10\n",
            "1500/1500 [==============================] - 3s 2ms/step - loss: 0.2692 - accuracy: 0.9006 - val_loss: 0.3236 - val_accuracy: 0.8802\n",
            "Epoch 10/10\n",
            "1500/1500 [==============================] - 4s 3ms/step - loss: 0.2614 - accuracy: 0.9011 - val_loss: 0.3495 - val_accuracy: 0.8733\n"
          ]
        },
        {
          "output_type": "execute_result",
          "data": {
            "text/plain": [
              "<keras.callbacks.History at 0x7f3d932ffc90>"
            ]
          },
          "metadata": {},
          "execution_count": 115
        }
      ]
    },
    {
      "cell_type": "code",
      "metadata": {
        "colab": {
          "base_uri": "https://localhost:8080/"
        },
        "id": "5eFV8lJf8CLk",
        "outputId": "a6ddd048-286b-4c3b-f255-022e76239005"
      },
      "source": [
        "model.evaluate(X_test, Y_test)\n",
        "print(\"mlp accuracy \", acc)"
      ],
      "execution_count": 116,
      "outputs": [
        {
          "output_type": "stream",
          "name": "stdout",
          "text": [
            "313/313 [==============================] - 1s 2ms/step - loss: 0.3788 - accuracy: 0.8663\n",
            "mlp accuracy  [0.29716673493385315, 0.897599995136261]\n"
          ]
        }
      ]
    },
    {
      "cell_type": "markdown",
      "metadata": {
        "id": "EpBtcX9D8DTg"
      },
      "source": [
        "## cifar10 dataset"
      ]
    },
    {
      "cell_type": "code",
      "metadata": {
        "id": "CEnQaCVhy16L",
        "colab": {
          "base_uri": "https://localhost:8080/"
        },
        "outputId": "aab27bdc-344a-41a2-d893-f6ae87496ac2"
      },
      "source": [
        "dataset = tf.keras.datasets.cifar10\n",
        "(X_train, Y_train), (X_test, Y_test) = dataset.load_data()\n",
        "\n",
        "print(X_train.shape, Y_train.shape, X_test.shape, Y_test.shape)\n",
        "print(X_train.min(), X_train.max(), X_train.dtype)\n",
        "print(X_test.min(), X_test.max(), X_test.dtype)\n",
        "print(Y_train.min(), Y_train.max(), Y_train.dtype)\n",
        "print(Y_test.min(), Y_test.max(), Y_test.dtype)"
      ],
      "execution_count": 3,
      "outputs": [
        {
          "output_type": "stream",
          "name": "stdout",
          "text": [
            "Downloading data from https://www.cs.toronto.edu/~kriz/cifar-10-python.tar.gz\n",
            "170500096/170498071 [==============================] - 11s 0us/step\n",
            "170508288/170498071 [==============================] - 11s 0us/step\n",
            "(50000, 32, 32, 3) (50000, 1) (10000, 32, 32, 3) (10000, 1)\n",
            "0 255 uint8\n",
            "0 255 uint8\n",
            "0 9 uint8\n",
            "0 9 uint8\n"
          ]
        }
      ]
    },
    {
      "cell_type": "code",
      "metadata": {
        "colab": {
          "base_uri": "https://localhost:8080/",
          "height": 283
        },
        "id": "Iz1d5KcX8hpQ",
        "outputId": "d4573eba-6b4b-48f5-ccc6-2647006e5d4a"
      },
      "source": [
        "plt.imshow(X_train[30], cmap = 'gray')"
      ],
      "execution_count": 4,
      "outputs": [
        {
          "output_type": "execute_result",
          "data": {
            "text/plain": [
              "<matplotlib.image.AxesImage at 0x7f7c71172590>"
            ]
          },
          "metadata": {},
          "execution_count": 4
        },
        {
          "output_type": "display_data",
          "data": {
            "image/png": "[encoded data removed]",
            "text/plain": [
              "<Figure size 432x288 with 1 Axes>"
            ]
          },
          "metadata": {
            "needs_background": "light"
          }
        }
      ]
    },
    {
      "cell_type": "code",
      "metadata": {
        "colab": {
          "base_uri": "https://localhost:8080/"
        },
        "id": "BaMBo-A380BQ",
        "outputId": "ad28e3ba-db6a-450b-995b-1aed049d9b3b"
      },
      "source": [
        "\n",
        "X_train = X_train.astype('float32') / 255.\n",
        "X_test = X_test.astype('float32') / 255.\n",
        "\n",
        "print(X_train.min(), X_train.max(), X_train.dtype)\n",
        "\n",
        "classes = np.unique(Y_train)\n",
        "# Y_train = to_categorical(Y_train, num_classes=len(classes))\n",
        "# Y_test = to_categorical(Y_test, num_classes=len(classes))\n",
        "# print(Y_train.shape, Y_test.shape)\n",
        "# print(Y_train[0])"
      ],
      "execution_count": 5,
      "outputs": [
        {
          "output_type": "stream",
          "name": "stdout",
          "text": [
            "0.0 1.0 float32\n"
          ]
        }
      ]
    },
    {
      "cell_type": "markdown",
      "metadata": {
        "id": "RP98wSolaeAe"
      },
      "source": [
        "### deep"
      ]
    },
    {
      "cell_type": "code",
      "metadata": {
        "colab": {
          "base_uri": "https://localhost:8080/"
        },
        "id": "oJUxXjM9Z7dD",
        "outputId": "b6b76741-06d4-4b08-c201-9d29444ca02a"
      },
      "source": [
        "input_shape = (32, 32, 3)\n",
        "\n",
        "model = tf.keras.models.Sequential([\n",
        "         Conv2D(32, (3, 3), input_shape=input_shape, activation='relu'),\n",
        "         MaxPool2D((2, 2)),\n",
        "         Conv2D(64, (3, 3), activation='relu'),\n",
        "         MaxPool2D((2, 2)),\n",
        "         Conv2D(128, (3, 3), activation='relu'),\n",
        "         Flatten(),\n",
        "        #  Dense(128, activation='relu'),\n",
        "         Dense(64, activation='relu'),\n",
        "         Dense(10, activation='softmax')                          \n",
        "])\n",
        "\n",
        "model.compile(optimizer=tf.keras.optimizers.Adam(),\n",
        "              loss=tf.keras.losses.sparse_categorical_crossentropy,\n",
        "              metrics='accuracy')\n",
        "\n",
        "model.summary()\n"
      ],
      "execution_count": 18,
      "outputs": [
        {
          "output_type": "stream",
          "name": "stdout",
          "text": [
            "Model: \"sequential_5\"\n",
            "_________________________________________________________________\n",
            "Layer (type)                 Output Shape              Param #   \n",
            "=================================================================\n",
            "conv2d_15 (Conv2D)           (None, 30, 30, 32)        896       \n",
            "_________________________________________________________________\n",
            "max_pooling2d_10 (MaxPooling (None, 15, 15, 32)        0         \n",
            "_________________________________________________________________\n",
            "conv2d_16 (Conv2D)           (None, 13, 13, 64)        18496     \n",
            "_________________________________________________________________\n",
            "max_pooling2d_11 (MaxPooling (None, 6, 6, 64)          0         \n",
            "_________________________________________________________________\n",
            "conv2d_17 (Conv2D)           (None, 4, 4, 128)         73856     \n",
            "_________________________________________________________________\n",
            "flatten_5 (Flatten)          (None, 2048)              0         \n",
            "_________________________________________________________________\n",
            "dense_11 (Dense)             (None, 64)                131136    \n",
            "_________________________________________________________________\n",
            "dense_12 (Dense)             (None, 10)                650       \n",
            "=================================================================\n",
            "Total params: 225,034\n",
            "Trainable params: 225,034\n",
            "Non-trainable params: 0\n",
            "_________________________________________________________________\n"
          ]
        }
      ]
    },
    {
      "cell_type": "code",
      "metadata": {
        "colab": {
          "base_uri": "https://localhost:8080/"
        },
        "id": "RZ0hsqnyaEdi",
        "outputId": "ce450cff-b6de-419c-8b12-6d5b1688dd94"
      },
      "source": [
        "X_train, X_val, Y_train, Y_val = train_test_split(X_train, Y_train, test_size=0.2)\n",
        "\n",
        "model.fit(X_train, Y_train, validation_data=(X_val, Y_val), epochs=10, batch_size=20)"
      ],
      "execution_count": 19,
      "outputs": [
        {
          "output_type": "stream",
          "name": "stdout",
          "text": [
            "Epoch 1/10\n",
            "656/656 [==============================] - 5s 7ms/step - loss: 1.7611 - accuracy: 0.3496 - val_loss: 1.5247 - val_accuracy: 0.4535\n",
            "Epoch 2/10\n",
            "656/656 [==============================] - 4s 7ms/step - loss: 1.3830 - accuracy: 0.5040 - val_loss: 1.4011 - val_accuracy: 0.4965\n",
            "Epoch 3/10\n",
            "656/656 [==============================] - 5s 7ms/step - loss: 1.2249 - accuracy: 0.5646 - val_loss: 1.2259 - val_accuracy: 0.5630\n",
            "Epoch 4/10\n",
            "656/656 [==============================] - 4s 7ms/step - loss: 1.1042 - accuracy: 0.6066 - val_loss: 1.2452 - val_accuracy: 0.5648\n",
            "Epoch 5/10\n",
            "656/656 [==============================] - 4s 7ms/step - loss: 1.0009 - accuracy: 0.6481 - val_loss: 1.0944 - val_accuracy: 0.6182\n",
            "Epoch 6/10\n",
            "656/656 [==============================] - 4s 7ms/step - loss: 0.9121 - accuracy: 0.6822 - val_loss: 1.0954 - val_accuracy: 0.6155\n",
            "Epoch 7/10\n",
            "656/656 [==============================] - 4s 7ms/step - loss: 0.8136 - accuracy: 0.7189 - val_loss: 1.0306 - val_accuracy: 0.6317\n",
            "Epoch 8/10\n",
            "656/656 [==============================] - 4s 7ms/step - loss: 0.7274 - accuracy: 0.7459 - val_loss: 1.1870 - val_accuracy: 0.6152\n",
            "Epoch 9/10\n",
            "656/656 [==============================] - 4s 7ms/step - loss: 0.6388 - accuracy: 0.7765 - val_loss: 1.1384 - val_accuracy: 0.6274\n",
            "Epoch 10/10\n",
            "656/656 [==============================] - 4s 7ms/step - loss: 0.5512 - accuracy: 0.8051 - val_loss: 1.1059 - val_accuracy: 0.6421\n"
          ]
        },
        {
          "output_type": "execute_result",
          "data": {
            "text/plain": [
              "<keras.callbacks.History at 0x7f7c27d350d0>"
            ]
          },
          "metadata": {},
          "execution_count": 19
        }
      ]
    },
    {
      "cell_type": "code",
      "metadata": {
        "colab": {
          "base_uri": "https://localhost:8080/"
        },
        "id": "pvMG6xDVaXNE",
        "outputId": "6c5a6961-e89d-405c-a971-8a17da04bb2f"
      },
      "source": [
        "model.evaluate(X_test, Y_test)\n"
      ],
      "execution_count": 20,
      "outputs": [
        {
          "output_type": "stream",
          "name": "stdout",
          "text": [
            "313/313 [==============================] - 1s 4ms/step - loss: 1.1522 - accuracy: 0.6359\n"
          ]
        },
        {
          "output_type": "execute_result",
          "data": {
            "text/plain": [
              "[1.1522371768951416, 0.6359000205993652]"
            ]
          },
          "metadata": {},
          "execution_count": 20
        }
      ]
    },
    {
      "cell_type": "markdown",
      "metadata": {
        "id": "uUS-ufeuagLh"
      },
      "source": [
        "### mlp"
      ]
    },
    {
      "cell_type": "code",
      "metadata": {
        "colab": {
          "base_uri": "https://localhost:8080/"
        },
        "id": "SKfkphA7Zy7S",
        "outputId": "a4f371d0-b7a1-4ad5-cf72-40d018ee45aa"
      },
      "source": [
        "X_train = np.reshape(X_train, (-1, X_train.shape[1]* X_train.shape[2]* X_train.shape[3]))\n",
        "X_test = np.reshape(X_test, (-1, X_test.shape[1] * X_test.shape[2]* X_test.shape[3]))\n",
        "\n",
        "print(X_train.shape, X_test.shape)"
      ],
      "execution_count": 21,
      "outputs": [
        {
          "output_type": "stream",
          "name": "stdout",
          "text": [
            "(13107, 3072) (10000, 3072)\n"
          ]
        }
      ]
    },
    {
      "cell_type": "code",
      "metadata": {
        "id": "PrccctuY9J-y"
      },
      "source": [
        "input_dim = X_train.shape[1]\n",
        "\n",
        "model = tf.keras.models.Sequential([\n",
        "         Dense(64, input_dim = input_dim, activation='relu'),\n",
        "         Dense(32, activation = 'relu'),\n",
        "         Dense(16, activation = 'relu'),\n",
        "         Dense(10, activation='softmax')                          \n",
        "])\n",
        "\n",
        "model.compile(optimizer=tf.keras.optimizers.Adam(),\n",
        "              loss=tf.keras.losses.sparse_categorical_crossentropy,\n",
        "              metrics='accuracy')"
      ],
      "execution_count": 22,
      "outputs": []
    },
    {
      "cell_type": "code",
      "metadata": {
        "colab": {
          "base_uri": "https://localhost:8080/"
        },
        "id": "jkbeuwRN9Ozu",
        "outputId": "37c90cb9-5436-4d8a-c767-3291cc3d06e0"
      },
      "source": [
        "X_train, X_val, Y_train, Y_val = train_test_split(X_train, Y_train, test_size=0.2)\n",
        "\n",
        "model.fit(X_train, Y_train, validation_data=(X_val, Y_val), epochs=10)\n"
      ],
      "execution_count": 23,
      "outputs": [
        {
          "output_type": "stream",
          "name": "stdout",
          "text": [
            "Epoch 1/10\n",
            "328/328 [==============================] - 2s 5ms/step - loss: 2.1530 - accuracy: 0.2054 - val_loss: 2.0226 - val_accuracy: 0.2769\n",
            "Epoch 2/10\n",
            "328/328 [==============================] - 1s 4ms/step - loss: 1.9659 - accuracy: 0.2799 - val_loss: 1.9327 - val_accuracy: 0.2792\n",
            "Epoch 3/10\n",
            "328/328 [==============================] - 1s 4ms/step - loss: 1.8880 - accuracy: 0.3157 - val_loss: 1.8585 - val_accuracy: 0.3196\n",
            "Epoch 4/10\n",
            "328/328 [==============================] - 1s 4ms/step - loss: 1.8384 - accuracy: 0.3327 - val_loss: 1.8222 - val_accuracy: 0.3448\n",
            "Epoch 5/10\n",
            "328/328 [==============================] - 1s 4ms/step - loss: 1.7935 - accuracy: 0.3531 - val_loss: 1.8018 - val_accuracy: 0.3516\n",
            "Epoch 6/10\n",
            "328/328 [==============================] - 1s 4ms/step - loss: 1.7802 - accuracy: 0.3542 - val_loss: 1.7928 - val_accuracy: 0.3455\n",
            "Epoch 7/10\n",
            "328/328 [==============================] - 1s 5ms/step - loss: 1.7550 - accuracy: 0.3660 - val_loss: 1.7444 - val_accuracy: 0.3627\n",
            "Epoch 8/10\n",
            "328/328 [==============================] - 1s 4ms/step - loss: 1.7227 - accuracy: 0.3784 - val_loss: 1.7883 - val_accuracy: 0.3368\n",
            "Epoch 9/10\n",
            "328/328 [==============================] - 1s 4ms/step - loss: 1.7072 - accuracy: 0.3900 - val_loss: 1.7311 - val_accuracy: 0.3669\n",
            "Epoch 10/10\n",
            "328/328 [==============================] - 1s 4ms/step - loss: 1.6908 - accuracy: 0.3932 - val_loss: 1.7368 - val_accuracy: 0.3661\n"
          ]
        },
        {
          "output_type": "execute_result",
          "data": {
            "text/plain": [
              "<keras.callbacks.History at 0x7f7bc7b376d0>"
            ]
          },
          "metadata": {},
          "execution_count": 23
        }
      ]
    },
    {
      "cell_type": "code",
      "metadata": {
        "colab": {
          "base_uri": "https://localhost:8080/"
        },
        "id": "ROVJtYeM9T3J",
        "outputId": "c98c0882-5f37-47dd-f32b-44416fc232ef"
      },
      "source": [
        "model.evaluate(X_test, Y_test)"
      ],
      "execution_count": 24,
      "outputs": [
        {
          "output_type": "stream",
          "name": "stdout",
          "text": [
            "313/313 [==============================] - 1s 3ms/step - loss: 1.7294 - accuracy: 0.3759\n"
          ]
        },
        {
          "output_type": "execute_result",
          "data": {
            "text/plain": [
              "[1.7294138669967651, 0.375900000333786]"
            ]
          },
          "metadata": {},
          "execution_count": 24
        }
      ]
    },
    {
      "cell_type": "markdown",
      "metadata": {
        "id": "23iPyqG99rmm"
      },
      "source": [
        "## cifar100 dataset\n"
      ]
    },
    {
      "cell_type": "code",
      "metadata": {
        "colab": {
          "base_uri": "https://localhost:8080/"
        },
        "id": "E9YIBl6x9mk8",
        "outputId": "502dd889-e0de-4026-9652-29932eeb42d9"
      },
      "source": [
        "dataset = tf.keras.datasets.cifar100\n",
        "(X_train, Y_train), (X_test, Y_test) = dataset.load_data()\n",
        "\n",
        "print(X_train.shape, Y_train.shape, X_test.shape, Y_test.shape)\n",
        "print(X_train.min(), X_train.max(), X_train.dtype)\n",
        "print(X_test.min(), X_test.max(), X_test.dtype)\n",
        "print(Y_train.min(), Y_train.max(), Y_train.dtype)\n",
        "print(Y_test.min(), Y_test.max(), Y_test.dtype)"
      ],
      "execution_count": 25,
      "outputs": [
        {
          "output_type": "stream",
          "name": "stdout",
          "text": [
            "Downloading data from https://www.cs.toronto.edu/~kriz/cifar-100-python.tar.gz\n",
            "169009152/169001437 [==============================] - 11s 0us/step\n",
            "169017344/169001437 [==============================] - 11s 0us/step\n",
            "(50000, 32, 32, 3) (50000, 1) (10000, 32, 32, 3) (10000, 1)\n",
            "0 255 uint8\n",
            "0 255 uint8\n",
            "0 99 int64\n",
            "0 99 int64\n"
          ]
        }
      ]
    },
    {
      "cell_type": "code",
      "metadata": {
        "colab": {
          "base_uri": "https://localhost:8080/",
          "height": 283
        },
        "id": "wxtlh_YX9-iS",
        "outputId": "13faea38-9a71-4e32-952e-cd5b44a452f4"
      },
      "source": [
        "plt.imshow(X_train[30], cmap = 'gray')"
      ],
      "execution_count": 26,
      "outputs": [
        {
          "output_type": "execute_result",
          "data": {
            "text/plain": [
              "<matplotlib.image.AxesImage at 0x7f7bc79f1f50>"
            ]
          },
          "metadata": {},
          "execution_count": 26
        },
        {
          "output_type": "display_data",
          "data": {
            "image/png": "[encoded data removed]",
            "text/plain": [
              "<Figure size 432x288 with 1 Axes>"
            ]
          },
          "metadata": {
            "needs_background": "light"
          }
        }
      ]
    },
    {
      "cell_type": "code",
      "metadata": {
        "colab": {
          "base_uri": "https://localhost:8080/"
        },
        "id": "NEsILsv6-CpD",
        "outputId": "3ab0b649-07dc-4970-c187-b7873f88d658"
      },
      "source": [
        "X_train = X_train.astype('float32') / 255.\n",
        "X_test = X_test.astype('float32') / 255.\n",
        "print(X_train.min(), X_train.max(), X_train.dtype)\n",
        "\n",
        "classes = np.unique(Y_train)\n",
        "Y_train = to_categorical(Y_train, num_classes=len(classes))\n",
        "Y_test = to_categorical(Y_test, num_classes=len(classes))\n",
        "print(Y_train.shape, Y_test.shape)\n",
        "print(Y_train[0])"
      ],
      "execution_count": 27,
      "outputs": [
        {
          "output_type": "stream",
          "name": "stdout",
          "text": [
            "0.0 1.0 float32\n",
            "(50000, 100) (10000, 100)\n",
            "[0. 0. 0. 0. 0. 0. 0. 0. 0. 0. 0. 0. 0. 0. 0. 0. 0. 0. 0. 1. 0. 0. 0. 0.\n",
            " 0. 0. 0. 0. 0. 0. 0. 0. 0. 0. 0. 0. 0. 0. 0. 0. 0. 0. 0. 0. 0. 0. 0. 0.\n",
            " 0. 0. 0. 0. 0. 0. 0. 0. 0. 0. 0. 0. 0. 0. 0. 0. 0. 0. 0. 0. 0. 0. 0. 0.\n",
            " 0. 0. 0. 0. 0. 0. 0. 0. 0. 0. 0. 0. 0. 0. 0. 0. 0. 0. 0. 0. 0. 0. 0. 0.\n",
            " 0. 0. 0. 0.]\n"
          ]
        }
      ]
    },
    {
      "cell_type": "markdown",
      "metadata": {
        "id": "QUSXWsxPbA2k"
      },
      "source": [
        "### deep"
      ]
    },
    {
      "cell_type": "code",
      "metadata": {
        "colab": {
          "base_uri": "https://localhost:8080/"
        },
        "id": "5kXxP3yb-FMY",
        "outputId": "cd2be30c-e208-4397-c694-5ec55d7a8595"
      },
      "source": [
        "input_shape = (32, 32, 3)\n",
        "\n",
        "model = tf.keras.models.Sequential([\n",
        "         Conv2D(32, (3, 3), input_shape=input_shape, activation='relu'),\n",
        "         MaxPool2D((2, 2)),\n",
        "         Conv2D(64, (3, 3), activation='relu'),\n",
        "         MaxPool2D((2, 2)),\n",
        "         Conv2D(64, (3, 3), activation='relu'),\n",
        "         Flatten(),\n",
        "         Dense(128, activation='relu'),\n",
        "         Dense(64, activation='relu'),\n",
        "         Dense(100, activation='softmax')                          \n",
        "])\n",
        "\n",
        "model.compile(optimizer=tf.keras.optimizers.Adam(),\n",
        "              loss=tf.keras.losses.categorical_crossentropy,\n",
        "              metrics='accuracy')\n",
        "\n",
        "model.summary()"
      ],
      "execution_count": 30,
      "outputs": [
        {
          "output_type": "stream",
          "name": "stdout",
          "text": [
            "Model: \"sequential_8\"\n",
            "_________________________________________________________________\n",
            "Layer (type)                 Output Shape              Param #   \n",
            "=================================================================\n",
            "conv2d_21 (Conv2D)           (None, 30, 30, 32)        896       \n",
            "_________________________________________________________________\n",
            "max_pooling2d_14 (MaxPooling (None, 15, 15, 32)        0         \n",
            "_________________________________________________________________\n",
            "conv2d_22 (Conv2D)           (None, 13, 13, 64)        18496     \n",
            "_________________________________________________________________\n",
            "max_pooling2d_15 (MaxPooling (None, 6, 6, 64)          0         \n",
            "_________________________________________________________________\n",
            "conv2d_23 (Conv2D)           (None, 4, 4, 64)          36928     \n",
            "_________________________________________________________________\n",
            "flatten_7 (Flatten)          (None, 1024)              0         \n",
            "_________________________________________________________________\n",
            "dense_20 (Dense)             (None, 128)               131200    \n",
            "_________________________________________________________________\n",
            "dense_21 (Dense)             (None, 64)                8256      \n",
            "_________________________________________________________________\n",
            "dense_22 (Dense)             (None, 100)               6500      \n",
            "=================================================================\n",
            "Total params: 202,276\n",
            "Trainable params: 202,276\n",
            "Non-trainable params: 0\n",
            "_________________________________________________________________\n"
          ]
        }
      ]
    },
    {
      "cell_type": "code",
      "metadata": {
        "colab": {
          "base_uri": "https://localhost:8080/"
        },
        "id": "XaLa_yKJbOI7",
        "outputId": "1296883b-7b99-48b8-c023-16f6a55d62c7"
      },
      "source": [
        "X_train, X_val, Y_train, Y_val = train_test_split(X_train, Y_train, test_size=0.2)\n",
        "\n",
        "model.fit(X_train, Y_train, validation_data=(X_val, Y_val), epochs=10)"
      ],
      "execution_count": 31,
      "outputs": [
        {
          "output_type": "stream",
          "name": "stdout",
          "text": [
            "Epoch 1/10\n",
            "1000/1000 [==============================] - 10s 10ms/step - loss: 4.1958 - accuracy: 0.0500 - val_loss: 3.9801 - val_accuracy: 0.0800\n",
            "Epoch 2/10\n",
            "1000/1000 [==============================] - 9s 9ms/step - loss: 3.6995 - accuracy: 0.1271 - val_loss: 3.5821 - val_accuracy: 0.1475\n",
            "Epoch 3/10\n",
            "1000/1000 [==============================] - 9s 9ms/step - loss: 3.4039 - accuracy: 0.1776 - val_loss: 3.3487 - val_accuracy: 0.1901\n",
            "Epoch 4/10\n",
            "1000/1000 [==============================] - 9s 9ms/step - loss: 3.1823 - accuracy: 0.2159 - val_loss: 3.1632 - val_accuracy: 0.2233\n",
            "Epoch 5/10\n",
            "1000/1000 [==============================] - 8s 8ms/step - loss: 3.0104 - accuracy: 0.2491 - val_loss: 3.0403 - val_accuracy: 0.2508\n",
            "Epoch 6/10\n",
            "1000/1000 [==============================] - 9s 9ms/step - loss: 2.8716 - accuracy: 0.2777 - val_loss: 3.0173 - val_accuracy: 0.2561\n",
            "Epoch 7/10\n",
            "1000/1000 [==============================] - 9s 9ms/step - loss: 2.7538 - accuracy: 0.2992 - val_loss: 2.9164 - val_accuracy: 0.2797\n",
            "Epoch 8/10\n",
            "1000/1000 [==============================] - 9s 9ms/step - loss: 2.6610 - accuracy: 0.3225 - val_loss: 2.8935 - val_accuracy: 0.2839\n",
            "Epoch 9/10\n",
            "1000/1000 [==============================] - 9s 9ms/step - loss: 2.5762 - accuracy: 0.3337 - val_loss: 2.8506 - val_accuracy: 0.2923\n",
            "Epoch 10/10\n",
            "1000/1000 [==============================] - 9s 9ms/step - loss: 2.4929 - accuracy: 0.3535 - val_loss: 2.9528 - val_accuracy: 0.2822\n"
          ]
        },
        {
          "output_type": "execute_result",
          "data": {
            "text/plain": [
              "<keras.callbacks.History at 0x7f7bc77035d0>"
            ]
          },
          "metadata": {},
          "execution_count": 31
        }
      ]
    },
    {
      "cell_type": "code",
      "metadata": {
        "colab": {
          "base_uri": "https://localhost:8080/"
        },
        "id": "O8Pcw8QBbPEj",
        "outputId": "8b85fa12-4d7b-4720-fcba-38e37a2189d6"
      },
      "source": [
        "model.evaluate(X_test, Y_test)"
      ],
      "execution_count": 32,
      "outputs": [
        {
          "output_type": "stream",
          "name": "stdout",
          "text": [
            "313/313 [==============================] - 2s 5ms/step - loss: 2.9377 - accuracy: 0.2865\n"
          ]
        },
        {
          "output_type": "execute_result",
          "data": {
            "text/plain": [
              "[2.93769907951355, 0.2865000069141388]"
            ]
          },
          "metadata": {},
          "execution_count": 32
        }
      ]
    },
    {
      "cell_type": "markdown",
      "metadata": {
        "id": "3LHHdOB1bSXr"
      },
      "source": [
        "### mlp"
      ]
    },
    {
      "cell_type": "code",
      "metadata": {
        "colab": {
          "base_uri": "https://localhost:8080/"
        },
        "id": "xyajcJZGa5dD",
        "outputId": "6331c7fd-9238-4c63-d8e1-55ec2ff04484"
      },
      "source": [
        "X_train = np.reshape(X_train, (-1, X_train.shape[1]* X_train.shape[2]* X_train.shape[3]))\n",
        "X_test = np.reshape(X_test, (-1, X_test.shape[1] * X_test.shape[2]* X_test.shape[3]))\n",
        "print(X_train.shape, X_test.shape)\n"
      ],
      "execution_count": 33,
      "outputs": [
        {
          "output_type": "stream",
          "name": "stdout",
          "text": [
            "(32000, 3072) (10000, 3072)\n"
          ]
        }
      ]
    },
    {
      "cell_type": "code",
      "metadata": {
        "id": "kDrr9P8C-a_r"
      },
      "source": [
        "input_dim = X_train.shape[1]\n",
        "\n",
        "model = tf.keras.models.Sequential([\n",
        "         Dense(64, input_dim = input_dim, activation='relu'),\n",
        "         Dense(32, activation = 'relu'),\n",
        "         Dense(32, activation = 'relu'),\n",
        "         Dense(100, activation='softmax')                          \n",
        "])\n",
        "\n",
        "model.compile(optimizer=tf.keras.optimizers.Adam(),\n",
        "              loss=tf.keras.losses.categorical_crossentropy,\n",
        "              metrics='accuracy')"
      ],
      "execution_count": 34,
      "outputs": []
    },
    {
      "cell_type": "code",
      "metadata": {
        "colab": {
          "base_uri": "https://localhost:8080/"
        },
        "id": "lRoSsybP-fVm",
        "outputId": "e48bffcc-6701-40b5-ac28-e669a553ae83"
      },
      "source": [
        "X_train, X_val, Y_train, Y_val = train_test_split(X_train, Y_train, test_size=0.2)\n",
        "\n",
        "model.fit(X_train, Y_train, validation_data=(X_val, Y_val), epochs=10)"
      ],
      "execution_count": 35,
      "outputs": [
        {
          "output_type": "stream",
          "name": "stdout",
          "text": [
            "Epoch 1/10\n",
            "800/800 [==============================] - 4s 4ms/step - loss: 4.3504 - accuracy: 0.0395 - val_loss: 4.0958 - val_accuracy: 0.0614\n",
            "Epoch 2/10\n",
            "800/800 [==============================] - 3s 4ms/step - loss: 4.0442 - accuracy: 0.0728 - val_loss: 3.9816 - val_accuracy: 0.0722\n",
            "Epoch 3/10\n",
            "800/800 [==============================] - 3s 4ms/step - loss: 3.9302 - accuracy: 0.0900 - val_loss: 3.9175 - val_accuracy: 0.0909\n",
            "Epoch 4/10\n",
            "800/800 [==============================] - 3s 4ms/step - loss: 3.8545 - accuracy: 0.1023 - val_loss: 3.8326 - val_accuracy: 0.1003\n",
            "Epoch 5/10\n",
            "800/800 [==============================] - 3s 4ms/step - loss: 3.7869 - accuracy: 0.1152 - val_loss: 3.8547 - val_accuracy: 0.1058\n",
            "Epoch 6/10\n",
            "800/800 [==============================] - 3s 4ms/step - loss: 3.7310 - accuracy: 0.1263 - val_loss: 3.7817 - val_accuracy: 0.1172\n",
            "Epoch 7/10\n",
            "800/800 [==============================] - 3s 4ms/step - loss: 3.6832 - accuracy: 0.1344 - val_loss: 3.6957 - val_accuracy: 0.1270\n",
            "Epoch 8/10\n",
            "800/800 [==============================] - 3s 4ms/step - loss: 3.6488 - accuracy: 0.1387 - val_loss: 3.7750 - val_accuracy: 0.1222\n",
            "Epoch 9/10\n",
            "800/800 [==============================] - 3s 4ms/step - loss: 3.6200 - accuracy: 0.1429 - val_loss: 3.6715 - val_accuracy: 0.1314\n",
            "Epoch 10/10\n",
            "800/800 [==============================] - 3s 4ms/step - loss: 3.5896 - accuracy: 0.1482 - val_loss: 3.6493 - val_accuracy: 0.1408\n"
          ]
        },
        {
          "output_type": "execute_result",
          "data": {
            "text/plain": [
              "<keras.callbacks.History at 0x7f7bc7497590>"
            ]
          },
          "metadata": {},
          "execution_count": 35
        }
      ]
    },
    {
      "cell_type": "code",
      "metadata": {
        "colab": {
          "base_uri": "https://localhost:8080/"
        },
        "id": "xGQZK7NX-tuX",
        "outputId": "e070839e-327c-4015-fa42-1f3af59ee2f2"
      },
      "source": [
        "model.evaluate(X_test, Y_test)"
      ],
      "execution_count": 36,
      "outputs": [
        {
          "output_type": "stream",
          "name": "stdout",
          "text": [
            "313/313 [==============================] - 2s 4ms/step - loss: 3.6983 - accuracy: 0.1398\n"
          ]
        },
        {
          "output_type": "execute_result",
          "data": {
            "text/plain": [
              "[3.6982789039611816, 0.13979999721050262]"
            ]
          },
          "metadata": {},
          "execution_count": 36
        }
      ]
    },
    {
      "cell_type": "code",
      "metadata": {
        "id": "gLJvdwu7-iAK"
      },
      "source": [
        ""
      ],
      "execution_count": null,
      "outputs": []
    }
  ]
}