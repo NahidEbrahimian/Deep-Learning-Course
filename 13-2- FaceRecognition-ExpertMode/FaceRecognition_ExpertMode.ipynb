{
 "cells": [
  {
   "cell_type": "code",
   "execution_count": null,
   "metadata": {
    "id": "t1OqPl8a7AE0"
   },
   "outputs": [],
   "source": [
    "!pip install wandb"
   ]
  },
  {
   "cell_type": "code",
   "execution_count": 2,
   "metadata": {
    "colab": {
     "base_uri": "https://localhost:8080/"
    },
    "id": "fdMd5RQy9OtG",
    "outputId": "5d2b2b8c-ca20-478b-d04c-ec0164ce1558"
   },
   "outputs": [
    {
     "name": "stdout",
     "output_type": "stream",
     "text": [
      "/content/drive/MyDrive/DeepLearningTasks/FaceRecognition-ExpertMode\n"
     ]
    }
   ],
   "source": [
    "cd /content/drive/MyDrive/DeepLearningTasks/FaceRecognition-ExpertMode"
   ]
  },
  {
   "cell_type": "markdown",
   "metadata": {
    "id": "sOxl0Hr7-OCL"
   },
   "source": [
    "### Settig Parameters and Imports"
   ]
  },
  {
   "cell_type": "code",
   "execution_count": 35,
   "metadata": {
    "colab": {
     "base_uri": "https://localhost:8080/"
    },
    "id": "EDxFc3mb-StO",
    "outputId": "fa1f7256-8e40-40c8-c73f-179c4c455dfb"
   },
   "outputs": [
    {
     "name": "stdout",
     "output_type": "stream",
     "text": [
      "Overwriting config.py\n"
     ]
    }
   ],
   "source": [
    "%%writefile config.py\n",
    "\n",
    "width = height = 112\n",
    "batch_size = 16\n",
    "epochs = 30"
   ]
  },
  {
   "cell_type": "code",
   "execution_count": 45,
   "metadata": {
    "id": "iRA0dhuZ7OZr"
   },
   "outputs": [],
   "source": [
    "import os\n",
    "import numpy as np\n",
    "import cv2\n",
    "import tensorflow as tf\n",
    "from tensorflow.keras.layers import Conv2D, Dense, Flatten, MaxPooling2D, Dropout\n",
    "from keras import Input\n",
    "import wandb\n",
    "from wandb.keras import WandbCallback\n",
    "from tensorflow.keras.preprocessing.image import ImageDataGenerator\n",
    "from tensorflow.keras.models import Sequential\n",
    "from tqdm import tqdm\n",
    "from config import *"
   ]
  },
  {
   "cell_type": "markdown",
   "metadata": {
    "id": "9KjYrEoX8uvY"
   },
   "source": [
    "### Preparing Dataset"
   ]
  },
  {
   "cell_type": "code",
   "execution_count": 4,
   "metadata": {
    "colab": {
     "base_uri": "https://localhost:8080/"
    },
    "id": "qPChMFM58XVG",
    "outputId": "ac2ee9de-fe7e-4790-b9eb-9d4ffd6abb16"
   },
   "outputs": [
    {
     "name": "stdout",
     "output_type": "stream",
     "text": [
      "Found 1091 images belonging to 14 classes.\n",
      "Found 268 images belonging to 14 classes.\n",
      "num_classes: 14\n",
      "[73 81 82 80 84 71 80 60 80 77 78 90 74 81]\n",
      "[18 20 20 20 21 17 19 15 20 19 19 22 18 20]\n"
     ]
    }
   ],
   "source": [
    "data_path = '/content/drive/MyDrive/7-7 dataset'\n",
    "\n",
    "data_generator = ImageDataGenerator(\n",
    "    rescale = 1./255,\n",
    "    validation_split=0.2\n",
    ")\n",
    "\n",
    "train_data = data_generator.flow_from_directory(\n",
    "    data_path,\n",
    "    target_size=(width, height),\n",
    "    batch_size = batch_size,\n",
    "    class_mode='categorical',\n",
    "    shuffle=True,\n",
    "    subset='training'\n",
    ")\n",
    "\n",
    "\n",
    "val_data = data_generator.flow_from_directory(\n",
    "    data_path,\n",
    "    target_size=(width, height),\n",
    "    batch_size = batch_size,\n",
    "    class_mode='categorical',\n",
    "    shuffle=False,\n",
    "    subset='validation'\n",
    ")\n",
    "\n",
    "\n",
    "label_map = (train_data.class_indices)\n",
    "np.save('label_map.npy', label_map) \n",
    "num_classes = len(np.bincount(train_data.labels))\n",
    "\n",
    "print('num_classes: {}'.format(num_classes))\n",
    "print(np.bincount(train_data.labels))\n",
    "print(np.bincount(val_data.labels))"
   ]
  },
  {
   "cell_type": "markdown",
   "metadata": {
    "id": "yLna0gTjBY2i"
   },
   "source": [
    "### Define Model and wandb Initializing"
   ]
  },
  {
   "cell_type": "markdown",
   "metadata": {
    "id": "QDc2jfaTpGA3"
   },
   "source": [
    "1-1- My Model"
   ]
  },
  {
   "cell_type": "code",
   "execution_count": 46,
   "metadata": {
    "colab": {
     "base_uri": "https://localhost:8080/"
    },
    "id": "JjVtC98g5IRG",
    "outputId": "61e24c86-4f2b-44df-b54e-ae7c862b6eba"
   },
   "outputs": [
    {
     "name": "stdout",
     "output_type": "stream",
     "text": [
      "Model: \"model_3\"\n",
      "__________________________________________________________________________________________________\n",
      "Layer (type)                    Output Shape         Param #     Connected to                     \n",
      "==================================================================================================\n",
      "input_6 (InputLayer)            [(None, 112, 112, 3) 0                                            \n",
      "__________________________________________________________________________________________________\n",
      "conv2d_40 (Conv2D)              (None, 110, 110, 32) 896         input_6[0][0]                    \n",
      "__________________________________________________________________________________________________\n",
      "max_pooling2d_8 (MaxPooling2D)  multiple             0           conv2d_40[0][0]                  \n",
      "                                                                 conv2d_41[0][0]                  \n",
      "                                                                 conv2d_42[0][0]                  \n",
      "                                                                 conv2d_43[0][0]                  \n",
      "__________________________________________________________________________________________________\n",
      "conv2d_41 (Conv2D)              (None, 53, 53, 64)   18496       max_pooling2d_8[0][0]            \n",
      "__________________________________________________________________________________________________\n",
      "conv2d_42 (Conv2D)              (None, 24, 24, 128)  73856       max_pooling2d_8[1][0]            \n",
      "__________________________________________________________________________________________________\n",
      "conv2d_43 (Conv2D)              (None, 10, 10, 256)  295168      max_pooling2d_8[2][0]            \n",
      "__________________________________________________________________________________________________\n",
      "flatten_8 (Flatten)             (None, 6400)         0           max_pooling2d_8[3][0]            \n",
      "__________________________________________________________________________________________________\n",
      "dropout_8 (Dropout)             multiple             0           flatten_8[0][0]                  \n",
      "                                                                 dense_24[0][0]                   \n",
      "                                                                 dense_25[0][0]                   \n",
      "__________________________________________________________________________________________________\n",
      "dense_24 (Dense)                (None, 128)          819328      dropout_8[0][0]                  \n",
      "__________________________________________________________________________________________________\n",
      "dense_25 (Dense)                (None, 64)           8256        dropout_8[1][0]                  \n",
      "__________________________________________________________________________________________________\n",
      "dense_26 (Dense)                (None, 14)           910         dropout_8[2][0]                  \n",
      "==================================================================================================\n",
      "Total params: 1,216,910\n",
      "Trainable params: 1,216,910\n",
      "Non-trainable params: 0\n",
      "__________________________________________________________________________________________________\n"
     ]
    }
   ],
   "source": [
    "class MyModel(tf.keras.Model):\n",
    "  def __init__(self, num_class, input_shape):\n",
    "    super().__init__()\n",
    "    self.conv1 = Conv2D(32, (3, 3), activation='relu', input_shape = input_shape)\n",
    "    self.conv2 = Conv2D(64, (3, 3), activation='relu')\n",
    "    self.conv3 = Conv2D(128, (3, 3), activation='relu')\n",
    "    self.conv4 = Conv2D(256, (3, 3), activation='relu')\n",
    "    self.maxpool = MaxPooling2D()\n",
    "    self.flatten = Flatten()\n",
    "    self.dropout = Dropout(0.2)\n",
    "    self.fc1 = Dense(128, activation='relu')\n",
    "    self.fc2 = Dense(64, activation='relu')\n",
    "    self.fc3= Dense(num_class, activation='softmax')\n",
    "    self.dim = input_shape\n",
    "\n",
    "\n",
    "  def call(self, x):\n",
    "    conv1 = self.conv1(x)\n",
    "    maxpool1 = self.maxpool(conv1)\n",
    "\n",
    "    conv2 = self.conv2(maxpool1)\n",
    "    maxpool2 = self.maxpool(conv2)\n",
    "\n",
    "    conv3 = self.conv3(maxpool2)\n",
    "    maxpool3 = self.maxpool(conv3)\n",
    "\n",
    "    conv4 = self.conv4(maxpool3)\n",
    "    maxpool4 = self.maxpool(conv4)\n",
    "\n",
    "    flatten = self.flatten(maxpool4)\n",
    "    dropout = self.dropout(flatten)\n",
    "    \n",
    "    fc1 = self.fc1(dropout)\n",
    "    dropout = self.dropout(fc1)\n",
    "    \n",
    "    fc2 = self.fc2(dropout)\n",
    "    dropout = self.dropout(fc2)\n",
    "    \n",
    "    output = self.fc3(dropout)\n",
    "\n",
    "    return output\n",
    "\n",
    "  def build_graph(self):\n",
    "      x = Input(shape=(self.dim))\n",
    "      return tf.keras.Model(inputs=[x], outputs=self.call(x))\n",
    "\n",
    "\n",
    "input_shape = (width ,height ,3)\n",
    "model = MyModel(num_classes, (input_shape))\n",
    "model.build((None, *input_shape))\n",
    "model.build_graph().summary()"
   ]
  },
  {
   "cell_type": "code",
   "execution_count": null,
   "metadata": {},
   "outputs": [],
   "source": [
    "wandb.init(project='FaceRecognition-ExpertMode')\n",
    "config = wandb.config\n",
    "config.learning_rate=0.0001"
   ]
  },
  {
   "cell_type": "markdown",
   "metadata": {
    "id": "xpD4vdVyimt-"
   },
   "source": [
    "### Define Loss and Training Loop"
   ]
  },
  {
   "cell_type": "code",
   "execution_count": 48,
   "metadata": {
    "id": "F7ZZMSk_iCEp"
   },
   "outputs": [],
   "source": [
    "loss_function = tf.keras.losses.CategoricalCrossentropy()\n",
    "optimizer = tf.keras.optimizers.Adam(learning_rate=config.learning_rate)"
   ]
  },
  {
   "cell_type": "code",
   "execution_count": 49,
   "metadata": {
    "id": "aphJD-jliW-7"
   },
   "outputs": [],
   "source": [
    "train_loss = tf.keras.metrics.Mean(name='train_loss')\n",
    "train_acc = tf.keras.metrics.CategoricalAccuracy(name='train_acc')\n",
    "\n",
    "val_loss = tf.keras.metrics.Mean(name='val_loss')\n",
    "val_acc = tf.keras.metrics.CategoricalAccuracy(name='val_acc')"
   ]
  },
  {
   "cell_type": "code",
   "execution_count": 50,
   "metadata": {
    "id": "3iczFAAliYiM"
   },
   "outputs": [],
   "source": [
    "def train_step(images, y):\n",
    "  with tf.GradientTape() as tape:\n",
    "    y_pred =  model(images, training = True)\n",
    "    loss = loss_function(y, y_pred)\n",
    "\n",
    "  # calculate gradient\n",
    "  gradient = tape.gradient(loss, model.trainable_variables)\n",
    "  \n",
    "  # update\n",
    "  optimizer.apply_gradients(zip(gradient, model.trainable_variables))\n",
    "\n",
    "  train_loss(loss)\n",
    "  train_acc(y, y_pred)"
   ]
  },
  {
   "cell_type": "code",
   "execution_count": 51,
   "metadata": {
    "id": "fvgcoybQiabE"
   },
   "outputs": [],
   "source": [
    "def val_step(images, y):\n",
    "  y_pred = model(images, training=False)\n",
    "  loss = loss_function(y, y_pred)\n",
    "\n",
    "  val_loss(loss)\n",
    "  val_acc(y, y_pred)"
   ]
  },
  {
   "cell_type": "code",
   "execution_count": 52,
   "metadata": {
    "id": "j7WRdIZOid4a"
   },
   "outputs": [],
   "source": [
    "def train():\n",
    "  \n",
    "  train_step_per_epoch = train_data.samples // batch_size\n",
    "  val_step_per_epoch = val_data.samples // batch_size\n",
    "\n",
    "  for epoch in range(epochs):\n",
    "    train_loss.reset_state()\n",
    "    train_acc.reset_state()\n",
    "    val_loss.reset_state()\n",
    "    val_acc.reset_state()\n",
    "\n",
    "    \n",
    "    for _ in tqdm(range(train_step_per_epoch)):\n",
    "      images, labels = next(train_data)\n",
    "      train_step(images, labels)\n",
    "    \n",
    "    for _ in tqdm(range(val_step_per_epoch)):\n",
    "      images, labels = next(val_data)\n",
    "      val_step(images, labels)\n",
    "\n",
    "    print('epoch: {}'.format(epoch + 1))\n",
    "    print('loss: {}'.format(train_loss.result()))\n",
    "    print('accuracy: {}'.format(train_acc.result()))\n",
    "    print('val_loss: {}'.format(val_loss.result()))\n",
    "    print('val_accuracy: {}'.format(val_acc.result()))\n",
    "\n",
    "\n",
    "    # log metrics using wandb.log\n",
    "    wandb.log({'epochs':  epoch + 1,\n",
    "                'loss': np.mean(train_loss.result()),\n",
    "                'acc': float(train_acc.result()), \n",
    "                'val_loss': np.mean(val_loss.result()),\n",
    "                'val_acc':float(val_acc.result())})"
   ]
  },
  {
   "cell_type": "code",
   "execution_count": 53,
   "metadata": {
    "colab": {
     "base_uri": "https://localhost:8080/"
    },
    "id": "vO1-6Dn8ifik",
    "outputId": "0b0736cf-05da-41cd-9cb7-6dd1215b00fb"
   },
   "outputs": [
    {
     "metadata": {
      "tags": null
     },
     "name": "stderr",
     "output_type": "stream",
     "text": [
      "100%|██████████| 68/68 [00:19<00:00,  3.49it/s]\n",
      "100%|██████████| 16/16 [00:04<00:00,  3.83it/s]\n"
     ]
    },
    {
     "metadata": {
      "tags": null
     },
     "name": "stdout",
     "output_type": "stream",
     "text": [
      "epoch: 1\n",
      "loss: 2.636568069458008\n",
      "accuracy: 0.07534883916378021\n",
      "val_loss: 2.611361503601074\n",
      "val_accuracy: 0.0833333358168602\n"
     ]
    },
    {
     "metadata": {
      "tags": null
     },
     "name": "stderr",
     "output_type": "stream",
     "text": [
      "100%|██████████| 68/68 [00:19<00:00,  3.58it/s]\n",
      "100%|██████████| 16/16 [00:04<00:00,  3.90it/s]\n"
     ]
    },
    {
     "metadata": {
      "tags": null
     },
     "name": "stdout",
     "output_type": "stream",
     "text": [
      "epoch: 2\n",
      "loss: 2.592245101928711\n",
      "accuracy: 0.13209302723407745\n",
      "val_loss: 2.482846975326538\n",
      "val_accuracy: 0.2976190447807312\n"
     ]
    },
    {
     "metadata": {
      "tags": null
     },
     "name": "stderr",
     "output_type": "stream",
     "text": [
      "100%|██████████| 68/68 [00:19<00:00,  3.57it/s]\n",
      "100%|██████████| 16/16 [00:04<00:00,  3.90it/s]\n"
     ]
    },
    {
     "metadata": {
      "tags": null
     },
     "name": "stdout",
     "output_type": "stream",
     "text": [
      "epoch: 3\n",
      "loss: 2.3394315242767334\n",
      "accuracy: 0.23720930516719818\n",
      "val_loss: 2.0370912551879883\n",
      "val_accuracy: 0.4126984179019928\n"
     ]
    },
    {
     "metadata": {
      "tags": null
     },
     "name": "stderr",
     "output_type": "stream",
     "text": [
      "100%|██████████| 68/68 [00:19<00:00,  3.55it/s]\n",
      "100%|██████████| 16/16 [00:04<00:00,  3.91it/s]\n"
     ]
    },
    {
     "metadata": {
      "tags": null
     },
     "name": "stdout",
     "output_type": "stream",
     "text": [
      "epoch: 4\n",
      "loss: 1.9643079042434692\n",
      "accuracy: 0.3488371968269348\n",
      "val_loss: 1.6303080320358276\n",
      "val_accuracy: 0.4722222089767456\n"
     ]
    },
    {
     "metadata": {
      "tags": null
     },
     "name": "stderr",
     "output_type": "stream",
     "text": [
      "100%|██████████| 68/68 [00:19<00:00,  3.54it/s]\n",
      "100%|██████████| 16/16 [00:04<00:00,  3.83it/s]\n"
     ]
    },
    {
     "metadata": {
      "tags": null
     },
     "name": "stdout",
     "output_type": "stream",
     "text": [
      "epoch: 5\n",
      "loss: 1.6475915908813477\n",
      "accuracy: 0.4502325654029846\n",
      "val_loss: 1.3865840435028076\n",
      "val_accuracy: 0.5714285969734192\n"
     ]
    },
    {
     "metadata": {
      "tags": null
     },
     "name": "stderr",
     "output_type": "stream",
     "text": [
      "100%|██████████| 68/68 [00:19<00:00,  3.52it/s]\n",
      "100%|██████████| 16/16 [00:04<00:00,  3.90it/s]\n"
     ]
    },
    {
     "metadata": {
      "tags": null
     },
     "name": "stdout",
     "output_type": "stream",
     "text": [
      "epoch: 6\n",
      "loss: 1.540524959564209\n",
      "accuracy: 0.5041860342025757\n",
      "val_loss: 1.3172893524169922\n",
      "val_accuracy: 0.6111111044883728\n"
     ]
    },
    {
     "metadata": {
      "tags": null
     },
     "name": "stderr",
     "output_type": "stream",
     "text": [
      "100%|██████████| 68/68 [00:19<00:00,  3.51it/s]\n",
      "100%|██████████| 16/16 [00:04<00:00,  3.90it/s]\n"
     ]
    },
    {
     "metadata": {
      "tags": null
     },
     "name": "stdout",
     "output_type": "stream",
     "text": [
      "epoch: 7\n",
      "loss: 1.3113093376159668\n",
      "accuracy: 0.5832558274269104\n",
      "val_loss: 1.2582142353057861\n",
      "val_accuracy: 0.6150793433189392\n"
     ]
    },
    {
     "metadata": {
      "tags": null
     },
     "name": "stderr",
     "output_type": "stream",
     "text": [
      "100%|██████████| 68/68 [00:19<00:00,  3.53it/s]\n",
      "100%|██████████| 16/16 [00:04<00:00,  3.89it/s]\n"
     ]
    },
    {
     "metadata": {
      "tags": null
     },
     "name": "stdout",
     "output_type": "stream",
     "text": [
      "epoch: 8\n",
      "loss: 1.1835156679153442\n",
      "accuracy: 0.6139534711837769\n",
      "val_loss: 1.1214003562927246\n",
      "val_accuracy: 0.6507936716079712\n"
     ]
    },
    {
     "metadata": {
      "tags": null
     },
     "name": "stderr",
     "output_type": "stream",
     "text": [
      "100%|██████████| 68/68 [00:19<00:00,  3.54it/s]\n",
      "100%|██████████| 16/16 [00:04<00:00,  3.89it/s]\n"
     ]
    },
    {
     "metadata": {
      "tags": null
     },
     "name": "stdout",
     "output_type": "stream",
     "text": [
      "epoch: 9\n",
      "loss: 1.1117478609085083\n",
      "accuracy: 0.6353488564491272\n",
      "val_loss: 1.059070348739624\n",
      "val_accuracy: 0.7142857313156128\n"
     ]
    },
    {
     "metadata": {
      "tags": null
     },
     "name": "stderr",
     "output_type": "stream",
     "text": [
      "100%|██████████| 68/68 [00:19<00:00,  3.54it/s]\n",
      "100%|██████████| 16/16 [00:04<00:00,  3.92it/s]\n"
     ]
    },
    {
     "metadata": {
      "tags": null
     },
     "name": "stdout",
     "output_type": "stream",
     "text": [
      "epoch: 10\n",
      "loss: 1.0067936182022095\n",
      "accuracy: 0.6790697574615479\n",
      "val_loss: 0.8845313787460327\n",
      "val_accuracy: 0.7341269850730896\n"
     ]
    },
    {
     "metadata": {
      "tags": null
     },
     "name": "stderr",
     "output_type": "stream",
     "text": [
      "100%|██████████| 68/68 [00:19<00:00,  3.51it/s]\n",
      "100%|██████████| 16/16 [00:04<00:00,  3.88it/s]\n"
     ]
    },
    {
     "metadata": {
      "tags": null
     },
     "name": "stdout",
     "output_type": "stream",
     "text": [
      "epoch: 11\n",
      "loss: 0.9133316874504089\n",
      "accuracy: 0.70790696144104\n",
      "val_loss: 0.9504942893981934\n",
      "val_accuracy: 0.7222222089767456\n"
     ]
    },
    {
     "metadata": {
      "tags": null
     },
     "name": "stderr",
     "output_type": "stream",
     "text": [
      "100%|██████████| 68/68 [00:19<00:00,  3.53it/s]\n",
      "100%|██████████| 16/16 [00:04<00:00,  3.94it/s]\n"
     ]
    },
    {
     "metadata": {
      "tags": null
     },
     "name": "stdout",
     "output_type": "stream",
     "text": [
      "epoch: 12\n",
      "loss: 0.830324113368988\n",
      "accuracy: 0.7339534759521484\n",
      "val_loss: 0.9632441997528076\n",
      "val_accuracy: 0.7142857313156128\n"
     ]
    },
    {
     "metadata": {
      "tags": null
     },
     "name": "stderr",
     "output_type": "stream",
     "text": [
      "100%|██████████| 68/68 [00:19<00:00,  3.56it/s]\n",
      "100%|██████████| 16/16 [00:04<00:00,  3.82it/s]\n"
     ]
    },
    {
     "metadata": {
      "tags": null
     },
     "name": "stdout",
     "output_type": "stream",
     "text": [
      "epoch: 13\n",
      "loss: 0.748000979423523\n",
      "accuracy: 0.7525581121444702\n",
      "val_loss: 0.8080567717552185\n",
      "val_accuracy: 0.76171875\n"
     ]
    },
    {
     "metadata": {
      "tags": null
     },
     "name": "stderr",
     "output_type": "stream",
     "text": [
      "100%|██████████| 68/68 [00:19<00:00,  3.53it/s]\n",
      "100%|██████████| 16/16 [00:04<00:00,  3.91it/s]\n"
     ]
    },
    {
     "metadata": {
      "tags": null
     },
     "name": "stdout",
     "output_type": "stream",
     "text": [
      "epoch: 14\n",
      "loss: 0.6928069591522217\n",
      "accuracy: 0.7674418687820435\n",
      "val_loss: 0.7819676995277405\n",
      "val_accuracy: 0.7817460298538208\n"
     ]
    },
    {
     "metadata": {
      "tags": null
     },
     "name": "stderr",
     "output_type": "stream",
     "text": [
      "100%|██████████| 68/68 [00:19<00:00,  3.54it/s]\n",
      "100%|██████████| 16/16 [00:04<00:00,  3.88it/s]\n"
     ]
    },
    {
     "metadata": {
      "tags": null
     },
     "name": "stdout",
     "output_type": "stream",
     "text": [
      "epoch: 15\n",
      "loss: 0.6234845519065857\n",
      "accuracy: 0.806511640548706\n",
      "val_loss: 0.8339870572090149\n",
      "val_accuracy: 0.7579365372657776\n"
     ]
    },
    {
     "metadata": {
      "tags": null
     },
     "name": "stderr",
     "output_type": "stream",
     "text": [
      "100%|██████████| 68/68 [00:19<00:00,  3.54it/s]\n",
      "100%|██████████| 16/16 [00:04<00:00,  3.85it/s]\n"
     ]
    },
    {
     "metadata": {
      "tags": null
     },
     "name": "stdout",
     "output_type": "stream",
     "text": [
      "epoch: 16\n",
      "loss: 0.5811430811882019\n",
      "accuracy: 0.8176743984222412\n",
      "val_loss: 0.8494935035705566\n",
      "val_accuracy: 0.7698412537574768\n"
     ]
    },
    {
     "metadata": {
      "tags": null
     },
     "name": "stderr",
     "output_type": "stream",
     "text": [
      "100%|██████████| 68/68 [00:19<00:00,  3.53it/s]\n",
      "100%|██████████| 16/16 [00:04<00:00,  3.94it/s]\n"
     ]
    },
    {
     "metadata": {
      "tags": null
     },
     "name": "stdout",
     "output_type": "stream",
     "text": [
      "epoch: 17\n",
      "loss: 0.5330876111984253\n",
      "accuracy: 0.8241860270500183\n",
      "val_loss: 0.7843586206436157\n",
      "val_accuracy: 0.7658730149269104\n"
     ]
    },
    {
     "metadata": {
      "tags": null
     },
     "name": "stderr",
     "output_type": "stream",
     "text": [
      "100%|██████████| 68/68 [00:19<00:00,  3.54it/s]\n",
      "100%|██████████| 16/16 [00:04<00:00,  3.92it/s]\n"
     ]
    },
    {
     "metadata": {
      "tags": null
     },
     "name": "stdout",
     "output_type": "stream",
     "text": [
      "epoch: 18\n",
      "loss: 0.5095170736312866\n",
      "accuracy: 0.8316279053688049\n",
      "val_loss: 0.7897982597351074\n",
      "val_accuracy: 0.761904776096344\n"
     ]
    },
    {
     "metadata": {
      "tags": null
     },
     "name": "stderr",
     "output_type": "stream",
     "text": [
      "100%|██████████| 68/68 [00:19<00:00,  3.53it/s]\n",
      "100%|██████████| 16/16 [00:04<00:00,  3.90it/s]\n"
     ]
    },
    {
     "metadata": {
      "tags": null
     },
     "name": "stdout",
     "output_type": "stream",
     "text": [
      "epoch: 19\n",
      "loss: 0.4013980031013489\n",
      "accuracy: 0.8762790560722351\n",
      "val_loss: 0.8090662360191345\n",
      "val_accuracy: 0.7817460298538208\n"
     ]
    },
    {
     "metadata": {
      "tags": null
     },
     "name": "stderr",
     "output_type": "stream",
     "text": [
      "100%|██████████| 68/68 [00:19<00:00,  3.53it/s]\n",
      "100%|██████████| 16/16 [00:04<00:00,  3.85it/s]\n"
     ]
    },
    {
     "metadata": {
      "tags": null
     },
     "name": "stdout",
     "output_type": "stream",
     "text": [
      "epoch: 20\n",
      "loss: 0.41479194164276123\n",
      "accuracy: 0.8651162981987\n",
      "val_loss: 0.8082689046859741\n",
      "val_accuracy: 0.7777777910232544\n"
     ]
    },
    {
     "metadata": {
      "tags": null
     },
     "name": "stderr",
     "output_type": "stream",
     "text": [
      "100%|██████████| 68/68 [00:19<00:00,  3.54it/s]\n",
      "100%|██████████| 16/16 [00:04<00:00,  3.84it/s]\n"
     ]
    },
    {
     "metadata": {
      "tags": null
     },
     "name": "stdout",
     "output_type": "stream",
     "text": [
      "epoch: 21\n",
      "loss: 0.3756784200668335\n",
      "accuracy: 0.8865116238594055\n",
      "val_loss: 0.6631747484207153\n",
      "val_accuracy: 0.8015872836112976\n"
     ]
    },
    {
     "metadata": {
      "tags": null
     },
     "name": "stderr",
     "output_type": "stream",
     "text": [
      "100%|██████████| 68/68 [00:19<00:00,  3.41it/s]\n",
      "100%|██████████| 16/16 [00:04<00:00,  3.72it/s]\n"
     ]
    },
    {
     "metadata": {
      "tags": null
     },
     "name": "stdout",
     "output_type": "stream",
     "text": [
      "epoch: 22\n",
      "loss: 0.36110758781433105\n",
      "accuracy: 0.8706976771354675\n",
      "val_loss: 0.7182731032371521\n",
      "val_accuracy: 0.8055555820465088\n"
     ]
    },
    {
     "metadata": {
      "tags": null
     },
     "name": "stderr",
     "output_type": "stream",
     "text": [
      "100%|██████████| 68/68 [00:20<00:00,  3.40it/s]\n",
      "100%|██████████| 16/16 [00:04<00:00,  3.69it/s]\n"
     ]
    },
    {
     "metadata": {
      "tags": null
     },
     "name": "stdout",
     "output_type": "stream",
     "text": [
      "epoch: 23\n",
      "loss: 0.33967792987823486\n",
      "accuracy: 0.8799999952316284\n",
      "val_loss: 0.7838874459266663\n",
      "val_accuracy: 0.7857142686843872\n"
     ]
    },
    {
     "metadata": {
      "tags": null
     },
     "name": "stderr",
     "output_type": "stream",
     "text": [
      "100%|██████████| 68/68 [00:19<00:00,  3.43it/s]\n",
      "100%|██████████| 16/16 [00:04<00:00,  3.82it/s]\n"
     ]
    },
    {
     "metadata": {
      "tags": null
     },
     "name": "stdout",
     "output_type": "stream",
     "text": [
      "epoch: 24\n",
      "loss: 0.3033677637577057\n",
      "accuracy: 0.8976744413375854\n",
      "val_loss: 0.6791784763336182\n",
      "val_accuracy: 0.8333333134651184\n"
     ]
    },
    {
     "metadata": {
      "tags": null
     },
     "name": "stderr",
     "output_type": "stream",
     "text": [
      "100%|██████████| 68/68 [00:19<00:00,  3.53it/s]\n",
      "100%|██████████| 16/16 [00:04<00:00,  3.98it/s]\n"
     ]
    },
    {
     "metadata": {
      "tags": null
     },
     "name": "stdout",
     "output_type": "stream",
     "text": [
      "epoch: 25\n",
      "loss: 0.25388339161872864\n",
      "accuracy: 0.9181395173072815\n",
      "val_loss: 0.7957773208618164\n",
      "val_accuracy: 0.817460298538208\n"
     ]
    },
    {
     "metadata": {
      "tags": null
     },
     "name": "stderr",
     "output_type": "stream",
     "text": [
      "100%|██████████| 68/68 [00:18<00:00,  3.60it/s]\n",
      "100%|██████████| 16/16 [00:04<00:00,  3.92it/s]\n"
     ]
    },
    {
     "metadata": {
      "tags": null
     },
     "name": "stdout",
     "output_type": "stream",
     "text": [
      "epoch: 26\n",
      "loss: 0.2476063072681427\n",
      "accuracy: 0.9116278886795044\n",
      "val_loss: 0.8154959678649902\n",
      "val_accuracy: 0.8015872836112976\n"
     ]
    },
    {
     "metadata": {
      "tags": null
     },
     "name": "stderr",
     "output_type": "stream",
     "text": [
      "100%|██████████| 68/68 [00:18<00:00,  3.60it/s]\n",
      "100%|██████████| 16/16 [00:03<00:00,  4.04it/s]\n"
     ]
    },
    {
     "metadata": {
      "tags": null
     },
     "name": "stdout",
     "output_type": "stream",
     "text": [
      "epoch: 27\n",
      "loss: 0.2381187379360199\n",
      "accuracy: 0.9265116453170776\n",
      "val_loss: 0.6258754730224609\n",
      "val_accuracy: 0.841269850730896\n"
     ]
    },
    {
     "metadata": {
      "tags": null
     },
     "name": "stderr",
     "output_type": "stream",
     "text": [
      "100%|██████████| 68/68 [00:19<00:00,  3.50it/s]\n",
      "100%|██████████| 16/16 [00:04<00:00,  3.67it/s]\n"
     ]
    },
    {
     "metadata": {
      "tags": null
     },
     "name": "stdout",
     "output_type": "stream",
     "text": [
      "epoch: 28\n",
      "loss: 0.22210989892482758\n",
      "accuracy: 0.9311627745628357\n",
      "val_loss: 0.7616292834281921\n",
      "val_accuracy: 0.8095238208770752\n"
     ]
    },
    {
     "metadata": {
      "tags": null
     },
     "name": "stderr",
     "output_type": "stream",
     "text": [
      "100%|██████████| 68/68 [00:20<00:00,  3.35it/s]\n",
      "100%|██████████| 16/16 [00:04<00:00,  3.68it/s]\n"
     ]
    },
    {
     "metadata": {
      "tags": null
     },
     "name": "stdout",
     "output_type": "stream",
     "text": [
      "epoch: 29\n",
      "loss: 0.18624596297740936\n",
      "accuracy: 0.9376744031906128\n",
      "val_loss: 0.7430930733680725\n",
      "val_accuracy: 0.817460298538208\n"
     ]
    },
    {
     "metadata": {
      "tags": null
     },
     "name": "stderr",
     "output_type": "stream",
     "text": [
      "100%|██████████| 68/68 [00:20<00:00,  3.37it/s]\n",
      "100%|██████████| 16/16 [00:04<00:00,  3.59it/s]\n"
     ]
    },
    {
     "metadata": {
      "tags": null
     },
     "name": "stdout",
     "output_type": "stream",
     "text": [
      "epoch: 30\n",
      "loss: 0.18340212106704712\n",
      "accuracy: 0.9413953423500061\n",
      "val_loss: 0.7341812252998352\n",
      "val_accuracy: 0.81640625\n"
     ]
    },
    {
     "name": "stderr",
     "output_type": "stream",
     "text": [
      "100%|██████████| 68/68 [00:20<00:00,  3.32it/s]\n",
      "100%|██████████| 16/16 [00:04<00:00,  3.94it/s]\n"
     ]
    },
    {
     "name": "stdout",
     "output_type": "stream",
     "text": [
      "epoch: 31\n",
      "loss: 0.15785783529281616\n",
      "accuracy: 0.9488372206687927\n",
      "val_loss: 0.7166642546653748\n",
      "val_accuracy: 0.8333333134651184\n"
     ]
    },
    {
     "name": "stderr",
     "output_type": "stream",
     "text": [
      "100%|██████████| 68/68 [00:18<00:00,  3.61it/s]\n",
      "100%|██████████| 16/16 [00:03<00:00,  4.01it/s]\n"
     ]
    },
    {
     "name": "stdout",
     "output_type": "stream",
     "text": [
      "epoch: 32\n",
      "loss: 0.19436943531036377\n",
      "accuracy: 0.9358139634132385\n",
      "val_loss: 0.8168303966522217\n",
      "val_accuracy: 0.8134920597076416\n"
     ]
    },
    {
     "name": "stderr",
     "output_type": "stream",
     "text": [
      "100%|██████████| 68/68 [00:18<00:00,  3.64it/s]\n",
      "100%|██████████| 16/16 [00:04<00:00,  4.00it/s]\n"
     ]
    },
    {
     "name": "stdout",
     "output_type": "stream",
     "text": [
      "epoch: 33\n",
      "loss: 0.14992006123065948\n",
      "accuracy: 0.952558159828186\n",
      "val_loss: 0.889971911907196\n",
      "val_accuracy: 0.8095238208770752\n"
     ]
    },
    {
     "name": "stderr",
     "output_type": "stream",
     "text": [
      "100%|██████████| 68/68 [00:18<00:00,  3.65it/s]\n",
      "100%|██████████| 16/16 [00:04<00:00,  3.94it/s]\n"
     ]
    },
    {
     "name": "stdout",
     "output_type": "stream",
     "text": [
      "epoch: 34\n",
      "loss: 0.18822398781776428\n",
      "accuracy: 0.934883713722229\n",
      "val_loss: 0.7917313575744629\n",
      "val_accuracy: 0.8015872836112976\n"
     ]
    },
    {
     "name": "stderr",
     "output_type": "stream",
     "text": [
      "100%|██████████| 68/68 [00:19<00:00,  3.57it/s]\n",
      "100%|██████████| 16/16 [00:03<00:00,  4.03it/s]\n"
     ]
    },
    {
     "name": "stdout",
     "output_type": "stream",
     "text": [
      "epoch: 35\n",
      "loss: 0.14502890408039093\n",
      "accuracy: 0.950697660446167\n",
      "val_loss: 0.744623064994812\n",
      "val_accuracy: 0.817460298538208\n"
     ]
    },
    {
     "name": "stderr",
     "output_type": "stream",
     "text": [
      "100%|██████████| 68/68 [00:18<00:00,  3.66it/s]\n",
      "100%|██████████| 16/16 [00:03<00:00,  4.03it/s]\n"
     ]
    },
    {
     "name": "stdout",
     "output_type": "stream",
     "text": [
      "epoch: 36\n",
      "loss: 0.16980038583278656\n",
      "accuracy: 0.9516279101371765\n",
      "val_loss: 0.9215313196182251\n",
      "val_accuracy: 0.7857142686843872\n"
     ]
    },
    {
     "name": "stderr",
     "output_type": "stream",
     "text": [
      "100%|██████████| 68/68 [00:18<00:00,  3.71it/s]\n",
      "100%|██████████| 16/16 [00:03<00:00,  4.05it/s]\n"
     ]
    },
    {
     "name": "stdout",
     "output_type": "stream",
     "text": [
      "epoch: 37\n",
      "loss: 0.15086960792541504\n",
      "accuracy: 0.9627906680107117\n",
      "val_loss: 0.7807472944259644\n",
      "val_accuracy: 0.8095238208770752\n"
     ]
    },
    {
     "name": "stderr",
     "output_type": "stream",
     "text": [
      "100%|██████████| 68/68 [00:18<00:00,  3.61it/s]\n",
      "100%|██████████| 16/16 [00:03<00:00,  4.02it/s]\n"
     ]
    },
    {
     "name": "stdout",
     "output_type": "stream",
     "text": [
      "epoch: 38\n",
      "loss: 0.14101479947566986\n",
      "accuracy: 0.9609302282333374\n",
      "val_loss: 0.6482131481170654\n",
      "val_accuracy: 0.8253968358039856\n"
     ]
    },
    {
     "name": "stderr",
     "output_type": "stream",
     "text": [
      "100%|██████████| 68/68 [00:18<00:00,  3.66it/s]\n",
      "100%|██████████| 16/16 [00:03<00:00,  4.06it/s]\n"
     ]
    },
    {
     "name": "stdout",
     "output_type": "stream",
     "text": [
      "epoch: 39\n",
      "loss: 0.1397770792245865\n",
      "accuracy: 0.9534883499145508\n",
      "val_loss: 0.711073637008667\n",
      "val_accuracy: 0.829365074634552\n"
     ]
    },
    {
     "name": "stderr",
     "output_type": "stream",
     "text": [
      "100%|██████████| 68/68 [00:18<00:00,  3.64it/s]\n",
      "100%|██████████| 16/16 [00:04<00:00,  3.92it/s]\n"
     ]
    },
    {
     "name": "stdout",
     "output_type": "stream",
     "text": [
      "epoch: 40\n",
      "loss: 0.09143207222223282\n",
      "accuracy: 0.9776744246482849\n",
      "val_loss: 0.7403008341789246\n",
      "val_accuracy: 0.841269850730896\n"
     ]
    },
    {
     "name": "stderr",
     "output_type": "stream",
     "text": [
      "100%|██████████| 68/68 [00:18<00:00,  3.62it/s]\n",
      "100%|██████████| 16/16 [00:04<00:00,  3.97it/s]\n"
     ]
    },
    {
     "name": "stdout",
     "output_type": "stream",
     "text": [
      "epoch: 41\n",
      "loss: 0.08669579774141312\n",
      "accuracy: 0.9758139252662659\n",
      "val_loss: 0.8374333381652832\n",
      "val_accuracy: 0.8214285969734192\n"
     ]
    },
    {
     "name": "stderr",
     "output_type": "stream",
     "text": [
      "100%|██████████| 68/68 [00:18<00:00,  3.69it/s]\n",
      "100%|██████████| 16/16 [00:03<00:00,  4.11it/s]\n"
     ]
    },
    {
     "name": "stdout",
     "output_type": "stream",
     "text": [
      "epoch: 42\n",
      "loss: 0.11547188460826874\n",
      "accuracy: 0.9590697884559631\n",
      "val_loss: 0.8481805920600891\n",
      "val_accuracy: 0.8333333134651184\n"
     ]
    },
    {
     "name": "stderr",
     "output_type": "stream",
     "text": [
      "100%|██████████| 68/68 [00:18<00:00,  3.69it/s]\n",
      "100%|██████████| 16/16 [00:03<00:00,  4.06it/s]\n"
     ]
    },
    {
     "name": "stdout",
     "output_type": "stream",
     "text": [
      "epoch: 43\n",
      "loss: 0.1034543439745903\n",
      "accuracy: 0.9693022966384888\n",
      "val_loss: 0.788997232913971\n",
      "val_accuracy: 0.8214285969734192\n"
     ]
    },
    {
     "name": "stderr",
     "output_type": "stream",
     "text": [
      "100%|██████████| 68/68 [00:18<00:00,  3.66it/s]\n",
      "100%|██████████| 16/16 [00:03<00:00,  4.06it/s]\n"
     ]
    },
    {
     "name": "stdout",
     "output_type": "stream",
     "text": [
      "epoch: 44\n",
      "loss: 0.07476228475570679\n",
      "accuracy: 0.9804651141166687\n",
      "val_loss: 0.7074779272079468\n",
      "val_accuracy: 0.8492063283920288\n"
     ]
    },
    {
     "name": "stderr",
     "output_type": "stream",
     "text": [
      "100%|██████████| 68/68 [00:18<00:00,  3.63it/s]\n",
      "100%|██████████| 16/16 [00:03<00:00,  4.06it/s]\n"
     ]
    },
    {
     "name": "stdout",
     "output_type": "stream",
     "text": [
      "epoch: 45\n",
      "loss: 0.07153719663619995\n",
      "accuracy: 0.9702325463294983\n",
      "val_loss: 0.7347460389137268\n",
      "val_accuracy: 0.8690476417541504\n"
     ]
    },
    {
     "name": "stderr",
     "output_type": "stream",
     "text": [
      "100%|██████████| 68/68 [00:18<00:00,  3.67it/s]\n",
      "100%|██████████| 16/16 [00:03<00:00,  4.02it/s]\n"
     ]
    },
    {
     "name": "stdout",
     "output_type": "stream",
     "text": [
      "epoch: 46\n",
      "loss: 0.08088342100381851\n",
      "accuracy: 0.9776744246482849\n",
      "val_loss: 0.9370545744895935\n",
      "val_accuracy: 0.8015872836112976\n"
     ]
    },
    {
     "name": "stderr",
     "output_type": "stream",
     "text": [
      "100%|██████████| 68/68 [00:18<00:00,  3.63it/s]\n",
      "100%|██████████| 16/16 [00:04<00:00,  3.96it/s]\n"
     ]
    },
    {
     "name": "stdout",
     "output_type": "stream",
     "text": [
      "epoch: 47\n",
      "loss: 0.08347026258707047\n",
      "accuracy: 0.9720930457115173\n",
      "val_loss: 0.7446317076683044\n",
      "val_accuracy: 0.84765625\n"
     ]
    },
    {
     "name": "stderr",
     "output_type": "stream",
     "text": [
      "100%|██████████| 68/68 [00:18<00:00,  3.64it/s]\n",
      "100%|██████████| 16/16 [00:03<00:00,  4.04it/s]\n"
     ]
    },
    {
     "name": "stdout",
     "output_type": "stream",
     "text": [
      "epoch: 48\n",
      "loss: 0.07747302204370499\n",
      "accuracy: 0.968372106552124\n",
      "val_loss: 0.8426114916801453\n",
      "val_accuracy: 0.85317462682724\n"
     ]
    },
    {
     "name": "stderr",
     "output_type": "stream",
     "text": [
      "100%|██████████| 68/68 [00:18<00:00,  3.59it/s]\n",
      "100%|██████████| 16/16 [00:03<00:00,  4.05it/s]\n"
     ]
    },
    {
     "name": "stdout",
     "output_type": "stream",
     "text": [
      "epoch: 49\n",
      "loss: 0.0809091255068779\n",
      "accuracy: 0.9770220518112183\n",
      "val_loss: 0.8185986876487732\n",
      "val_accuracy: 0.8492063283920288\n"
     ]
    },
    {
     "name": "stderr",
     "output_type": "stream",
     "text": [
      "100%|██████████| 68/68 [00:18<00:00,  3.65it/s]\n",
      "100%|██████████| 16/16 [00:03<00:00,  4.03it/s]"
     ]
    },
    {
     "name": "stdout",
     "output_type": "stream",
     "text": [
      "epoch: 50\n",
      "loss: 0.06746424734592438\n",
      "accuracy: 0.9720930457115173\n",
      "val_loss: 0.9579612612724304\n",
      "val_accuracy: 0.8134920597076416\n"
     ]
    },
    {
     "name": "stderr",
     "output_type": "stream",
     "text": [
      "\n"
     ]
    }
   ],
   "source": [
    "train()"
   ]
  },
  {
   "cell_type": "code",
   "execution_count": 24,
   "metadata": {
    "id": "1hmGMzy1QISu"
   },
   "outputs": [],
   "source": [
    "model.save_weights(filepath='checkpoint',save_format='HDF5')"
   ]
  },
  {
   "cell_type": "code",
   "execution_count": null,
   "metadata": {
    "id": "lOFQqYjKknlE"
   },
   "outputs": [],
   "source": []
  }
 ],
 "metadata": {
  "accelerator": "GPU",
  "colab": {
   "collapsed_sections": [],
   "name": "FaceRecognition-ExpertMode.ipynb",
   "provenance": []
  },
  "kernelspec": {
   "display_name": "Python 3 (ipykernel)",
   "language": "python",
   "name": "python3"
  },
  "language_info": {
   "codemirror_mode": {
    "name": "ipython",
    "version": 3
   },
   "file_extension": ".py",
   "mimetype": "text/x-python",
   "name": "python",
   "nbconvert_exporter": "python",
   "pygments_lexer": "ipython3",
   "version": "3.8.10"
  },
  "widgets": {
   "application/vnd.jupyter.widget-state+json": {
    "1144456bbb6046a0962bfeacfc6c6fb6": {
     "model_module": "@jupyter-widgets/controls",
     "model_module_version": "1.5.0",
     "model_name": "FloatProgressModel",
     "state": {
      "_dom_classes": [],
      "_model_module": "@jupyter-widgets/controls",
      "_model_module_version": "1.5.0",
      "_model_name": "FloatProgressModel",
      "_view_count": null,
      "_view_module": "@jupyter-widgets/controls",
      "_view_module_version": "1.5.0",
      "_view_name": "ProgressView",
      "bar_style": "",
      "description": "",
      "description_tooltip": null,
      "layout": "IPY_MODEL_7926b278b65d49dfb66b12e2397b0795",
      "max": 1,
      "min": 0,
      "orientation": "horizontal",
      "style": "IPY_MODEL_228ce7348e344cff93fa649d342376f8",
      "value": 1
     }
    },
    "228ce7348e344cff93fa649d342376f8": {
     "model_module": "@jupyter-widgets/controls",
     "model_module_version": "1.5.0",
     "model_name": "ProgressStyleModel",
     "state": {
      "_model_module": "@jupyter-widgets/controls",
      "_model_module_version": "1.5.0",
      "_model_name": "ProgressStyleModel",
      "_view_count": null,
      "_view_module": "@jupyter-widgets/base",
      "_view_module_version": "1.2.0",
      "_view_name": "StyleView",
      "bar_color": null,
      "description_width": ""
     }
    },
    "250937d1762a438cb58c9ff919e3f640": {
     "model_module": "@jupyter-widgets/base",
     "model_module_version": "1.2.0",
     "model_name": "LayoutModel",
     "state": {
      "_model_module": "@jupyter-widgets/base",
      "_model_module_version": "1.2.0",
      "_model_name": "LayoutModel",
      "_view_count": null,
      "_view_module": "@jupyter-widgets/base",
      "_view_module_version": "1.2.0",
      "_view_name": "LayoutView",
      "align_content": null,
      "align_items": null,
      "align_self": null,
      "border": null,
      "bottom": null,
      "display": null,
      "flex": null,
      "flex_flow": null,
      "grid_area": null,
      "grid_auto_columns": null,
      "grid_auto_flow": null,
      "grid_auto_rows": null,
      "grid_column": null,
      "grid_gap": null,
      "grid_row": null,
      "grid_template_areas": null,
      "grid_template_columns": null,
      "grid_template_rows": null,
      "height": null,
      "justify_content": null,
      "justify_items": null,
      "left": null,
      "margin": null,
      "max_height": null,
      "max_width": null,
      "min_height": null,
      "min_width": null,
      "object_fit": null,
      "object_position": null,
      "order": null,
      "overflow": null,
      "overflow_x": null,
      "overflow_y": null,
      "padding": null,
      "right": null,
      "top": null,
      "visibility": null,
      "width": null
     }
    },
    "771422eabbcd4d479d9dc6343f76039e": {
     "model_module": "@jupyter-widgets/controls",
     "model_module_version": "1.5.0",
     "model_name": "LabelModel",
     "state": {
      "_dom_classes": [],
      "_model_module": "@jupyter-widgets/controls",
      "_model_module_version": "1.5.0",
      "_model_name": "LabelModel",
      "_view_count": null,
      "_view_module": "@jupyter-widgets/controls",
      "_view_module_version": "1.5.0",
      "_view_name": "LabelView",
      "description": "",
      "description_tooltip": null,
      "layout": "IPY_MODEL_250937d1762a438cb58c9ff919e3f640",
      "placeholder": "​",
      "style": "IPY_MODEL_ae5d2d731a714291aa205553e0430684",
      "value": " 0.02MB of 0.02MB uploaded (0.00MB deduped)\r"
     }
    },
    "7926b278b65d49dfb66b12e2397b0795": {
     "model_module": "@jupyter-widgets/base",
     "model_module_version": "1.2.0",
     "model_name": "LayoutModel",
     "state": {
      "_model_module": "@jupyter-widgets/base",
      "_model_module_version": "1.2.0",
      "_model_name": "LayoutModel",
      "_view_count": null,
      "_view_module": "@jupyter-widgets/base",
      "_view_module_version": "1.2.0",
      "_view_name": "LayoutView",
      "align_content": null,
      "align_items": null,
      "align_self": null,
      "border": null,
      "bottom": null,
      "display": null,
      "flex": null,
      "flex_flow": null,
      "grid_area": null,
      "grid_auto_columns": null,
      "grid_auto_flow": null,
      "grid_auto_rows": null,
      "grid_column": null,
      "grid_gap": null,
      "grid_row": null,
      "grid_template_areas": null,
      "grid_template_columns": null,
      "grid_template_rows": null,
      "height": null,
      "justify_content": null,
      "justify_items": null,
      "left": null,
      "margin": null,
      "max_height": null,
      "max_width": null,
      "min_height": null,
      "min_width": null,
      "object_fit": null,
      "object_position": null,
      "order": null,
      "overflow": null,
      "overflow_x": null,
      "overflow_y": null,
      "padding": null,
      "right": null,
      "top": null,
      "visibility": null,
      "width": null
     }
    },
    "ae5d2d731a714291aa205553e0430684": {
     "model_module": "@jupyter-widgets/controls",
     "model_module_version": "1.5.0",
     "model_name": "DescriptionStyleModel",
     "state": {
      "_model_module": "@jupyter-widgets/controls",
      "_model_module_version": "1.5.0",
      "_model_name": "DescriptionStyleModel",
      "_view_count": null,
      "_view_module": "@jupyter-widgets/base",
      "_view_module_version": "1.2.0",
      "_view_name": "StyleView",
      "description_width": ""
     }
    },
    "e6fcbbf7d62d44b8b817e074d610fe00": {
     "model_module": "@jupyter-widgets/base",
     "model_module_version": "1.2.0",
     "model_name": "LayoutModel",
     "state": {
      "_model_module": "@jupyter-widgets/base",
      "_model_module_version": "1.2.0",
      "_model_name": "LayoutModel",
      "_view_count": null,
      "_view_module": "@jupyter-widgets/base",
      "_view_module_version": "1.2.0",
      "_view_name": "LayoutView",
      "align_content": null,
      "align_items": null,
      "align_self": null,
      "border": null,
      "bottom": null,
      "display": null,
      "flex": null,
      "flex_flow": null,
      "grid_area": null,
      "grid_auto_columns": null,
      "grid_auto_flow": null,
      "grid_auto_rows": null,
      "grid_column": null,
      "grid_gap": null,
      "grid_row": null,
      "grid_template_areas": null,
      "grid_template_columns": null,
      "grid_template_rows": null,
      "height": null,
      "justify_content": null,
      "justify_items": null,
      "left": null,
      "margin": null,
      "max_height": null,
      "max_width": null,
      "min_height": null,
      "min_width": null,
      "object_fit": null,
      "object_position": null,
      "order": null,
      "overflow": null,
      "overflow_x": null,
      "overflow_y": null,
      "padding": null,
      "right": null,
      "top": null,
      "visibility": null,
      "width": null
     }
    },
    "ff6f79ef22ab421c993e54eee9cdbf5b": {
     "model_module": "@jupyter-widgets/controls",
     "model_module_version": "1.5.0",
     "model_name": "VBoxModel",
     "state": {
      "_dom_classes": [],
      "_model_module": "@jupyter-widgets/controls",
      "_model_module_version": "1.5.0",
      "_model_name": "VBoxModel",
      "_view_count": null,
      "_view_module": "@jupyter-widgets/controls",
      "_view_module_version": "1.5.0",
      "_view_name": "VBoxView",
      "box_style": "",
      "children": [
       "IPY_MODEL_771422eabbcd4d479d9dc6343f76039e",
       "IPY_MODEL_1144456bbb6046a0962bfeacfc6c6fb6"
      ],
      "layout": "IPY_MODEL_e6fcbbf7d62d44b8b817e074d610fe00"
     }
    }
   }
  }
 },
 "nbformat": 4,
 "nbformat_minor": 1
}
